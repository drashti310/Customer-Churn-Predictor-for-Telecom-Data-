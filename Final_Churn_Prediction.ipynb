{
  "cells": [
    {
      "cell_type": "markdown",
      "metadata": {
        "id": "2Xf4tQbD3fln"
      },
      "source": [
        "# Project Methodology\n",
        "\n",
        "### The project consists of the following sections:\n",
        "\n",
        "1. Data Collection and Ingestion\n",
        "2. Exploratory Data Analysis and Data Cleaning\n",
        "3. Feature Engineering\n",
        "4. Splitting the data in training and testing sets (Model Training)\n",
        "5. Model Evaluation and Selection\n",
        "* Algorithm selected: Random Forest, because Random Forest can yield good results with less data, so it's one of the best classification models for churn prediction. Also, our model is more accurate for Random Forest.\n",
        "\n",
        "7. Web app deployment\n"
      ]
    },
    {
      "cell_type": "markdown",
      "metadata": {
        "id": "1ZWnbtRLNxPW"
      },
      "source": [
        "# Data Collection and Ingestion:\n",
        "\n"
      ]
    },
    {
      "cell_type": "code",
      "execution_count": 60,
      "metadata": {},
      "outputs": [],
      "source": [
        "import warnings\n",
        "warnings.filterwarnings('ignore')"
      ]
    },
    {
      "cell_type": "code",
      "execution_count": 61,
      "metadata": {
        "colab": {
          "base_uri": "https://localhost:8080/"
        },
        "id": "_mKNS7qNzbNA",
        "outputId": "4e9d2ffe-feef-4cb4-90e3-7fe59738d233"
      },
      "outputs": [],
      "source": [
        "# read data into Dataframe\n",
        "\n",
        "import pandas as pd \n",
        "df_telco = pd.read_excel('Telco_customer_churn_merged.xlsx')"
      ]
    },
    {
      "cell_type": "code",
      "execution_count": 62,
      "metadata": {
        "colab": {
          "base_uri": "https://localhost:8080/"
        },
        "id": "3zr7GE-nIJb4",
        "outputId": "2a673515-921b-4b45-9904-3253c7dfcfde"
      },
      "outputs": [
        {
          "data": {
            "text/plain": [
              "Index(['CustomerID', 'Count', 'Country', 'State', 'City', 'Zip Code',\n",
              "       'Lat Long', 'Latitude', 'Longitude', 'Gender', 'Senior Citizen',\n",
              "       'Partner', 'Dependents', 'Tenure Months', 'Phone Service',\n",
              "       'Multiple Lines', 'Internet Service', 'Online Security',\n",
              "       'Online Backup', 'Device Protection', 'Tech Support', 'Streaming TV',\n",
              "       'Streaming Movies', 'Contract', 'Paperless Billing', 'Payment Method',\n",
              "       'Monthly Charges', 'Total Charges', 'Churn Label', 'Churn Value',\n",
              "       'Churn Score', 'CLTV', 'Churn Reason'],\n",
              "      dtype='object')"
            ]
          },
          "execution_count": 62,
          "metadata": {},
          "output_type": "execute_result"
        }
      ],
      "source": [
        "# visualize column names\n",
        "\n",
        "df_telco.columns"
      ]
    },
    {
      "cell_type": "code",
      "execution_count": 63,
      "metadata": {
        "colab": {
          "base_uri": "https://localhost:8080/",
          "height": 433
        },
        "id": "AHuCCcEmIYMT",
        "outputId": "3098242a-3a50-45e5-d1bb-e8a0a4c34e16"
      },
      "outputs": [
        {
          "data": {
            "text/html": [
              "<div>\n",
              "<style scoped>\n",
              "    .dataframe tbody tr th:only-of-type {\n",
              "        vertical-align: middle;\n",
              "    }\n",
              "\n",
              "    .dataframe tbody tr th {\n",
              "        vertical-align: top;\n",
              "    }\n",
              "\n",
              "    .dataframe thead th {\n",
              "        text-align: right;\n",
              "    }\n",
              "</style>\n",
              "<table border=\"1\" class=\"dataframe\">\n",
              "  <thead>\n",
              "    <tr style=\"text-align: right;\">\n",
              "      <th></th>\n",
              "      <th>CustomerID</th>\n",
              "      <th>Count</th>\n",
              "      <th>Country</th>\n",
              "      <th>State</th>\n",
              "      <th>City</th>\n",
              "      <th>Zip Code</th>\n",
              "      <th>Lat Long</th>\n",
              "      <th>Latitude</th>\n",
              "      <th>Longitude</th>\n",
              "      <th>Gender</th>\n",
              "      <th>...</th>\n",
              "      <th>Contract</th>\n",
              "      <th>Paperless Billing</th>\n",
              "      <th>Payment Method</th>\n",
              "      <th>Monthly Charges</th>\n",
              "      <th>Total Charges</th>\n",
              "      <th>Churn Label</th>\n",
              "      <th>Churn Value</th>\n",
              "      <th>Churn Score</th>\n",
              "      <th>CLTV</th>\n",
              "      <th>Churn Reason</th>\n",
              "    </tr>\n",
              "  </thead>\n",
              "  <tbody>\n",
              "    <tr>\n",
              "      <th>0</th>\n",
              "      <td>3668-QPYBK</td>\n",
              "      <td>1.0</td>\n",
              "      <td>United States</td>\n",
              "      <td>California</td>\n",
              "      <td>Los Angeles</td>\n",
              "      <td>90003.0</td>\n",
              "      <td>33.964131, -118.272783</td>\n",
              "      <td>33.964131</td>\n",
              "      <td>-118.272783</td>\n",
              "      <td>Male</td>\n",
              "      <td>...</td>\n",
              "      <td>Month-to-month</td>\n",
              "      <td>Yes</td>\n",
              "      <td>Mailed check</td>\n",
              "      <td>53.85</td>\n",
              "      <td>108.15</td>\n",
              "      <td>Yes</td>\n",
              "      <td>1.0</td>\n",
              "      <td>86.0</td>\n",
              "      <td>3239.0</td>\n",
              "      <td>Competitor made better offer</td>\n",
              "    </tr>\n",
              "    <tr>\n",
              "      <th>1</th>\n",
              "      <td>9237-HQITU</td>\n",
              "      <td>1.0</td>\n",
              "      <td>United States</td>\n",
              "      <td>California</td>\n",
              "      <td>Los Angeles</td>\n",
              "      <td>90005.0</td>\n",
              "      <td>34.059281, -118.30742</td>\n",
              "      <td>34.059281</td>\n",
              "      <td>-118.307420</td>\n",
              "      <td>Female</td>\n",
              "      <td>...</td>\n",
              "      <td>Month-to-month</td>\n",
              "      <td>Yes</td>\n",
              "      <td>Electronic check</td>\n",
              "      <td>70.70</td>\n",
              "      <td>151.65</td>\n",
              "      <td>Yes</td>\n",
              "      <td>1.0</td>\n",
              "      <td>67.0</td>\n",
              "      <td>2701.0</td>\n",
              "      <td>Moved</td>\n",
              "    </tr>\n",
              "    <tr>\n",
              "      <th>2</th>\n",
              "      <td>9305-CDSKC</td>\n",
              "      <td>1.0</td>\n",
              "      <td>United States</td>\n",
              "      <td>California</td>\n",
              "      <td>Los Angeles</td>\n",
              "      <td>90006.0</td>\n",
              "      <td>34.048013, -118.293953</td>\n",
              "      <td>34.048013</td>\n",
              "      <td>-118.293953</td>\n",
              "      <td>Female</td>\n",
              "      <td>...</td>\n",
              "      <td>Month-to-month</td>\n",
              "      <td>Yes</td>\n",
              "      <td>Electronic check</td>\n",
              "      <td>99.65</td>\n",
              "      <td>820.5</td>\n",
              "      <td>Yes</td>\n",
              "      <td>1.0</td>\n",
              "      <td>86.0</td>\n",
              "      <td>5372.0</td>\n",
              "      <td>Moved</td>\n",
              "    </tr>\n",
              "    <tr>\n",
              "      <th>3</th>\n",
              "      <td>7892-POOKP</td>\n",
              "      <td>1.0</td>\n",
              "      <td>United States</td>\n",
              "      <td>California</td>\n",
              "      <td>Los Angeles</td>\n",
              "      <td>90010.0</td>\n",
              "      <td>34.062125, -118.315709</td>\n",
              "      <td>34.062125</td>\n",
              "      <td>-118.315709</td>\n",
              "      <td>Female</td>\n",
              "      <td>...</td>\n",
              "      <td>Month-to-month</td>\n",
              "      <td>Yes</td>\n",
              "      <td>Electronic check</td>\n",
              "      <td>104.80</td>\n",
              "      <td>3046.05</td>\n",
              "      <td>Yes</td>\n",
              "      <td>1.0</td>\n",
              "      <td>84.0</td>\n",
              "      <td>5003.0</td>\n",
              "      <td>Moved</td>\n",
              "    </tr>\n",
              "    <tr>\n",
              "      <th>4</th>\n",
              "      <td>0280-XJGEX</td>\n",
              "      <td>1.0</td>\n",
              "      <td>United States</td>\n",
              "      <td>California</td>\n",
              "      <td>Los Angeles</td>\n",
              "      <td>90015.0</td>\n",
              "      <td>34.039224, -118.266293</td>\n",
              "      <td>34.039224</td>\n",
              "      <td>-118.266293</td>\n",
              "      <td>Male</td>\n",
              "      <td>...</td>\n",
              "      <td>Month-to-month</td>\n",
              "      <td>Yes</td>\n",
              "      <td>Bank transfer (automatic)</td>\n",
              "      <td>103.70</td>\n",
              "      <td>5036.3</td>\n",
              "      <td>Yes</td>\n",
              "      <td>1.0</td>\n",
              "      <td>89.0</td>\n",
              "      <td>5340.0</td>\n",
              "      <td>Competitor had better devices</td>\n",
              "    </tr>\n",
              "  </tbody>\n",
              "</table>\n",
              "<p>5 rows × 33 columns</p>\n",
              "</div>"
            ],
            "text/plain": [
              "   CustomerID  Count        Country       State         City  Zip Code  \\\n",
              "0  3668-QPYBK    1.0  United States  California  Los Angeles   90003.0   \n",
              "1  9237-HQITU    1.0  United States  California  Los Angeles   90005.0   \n",
              "2  9305-CDSKC    1.0  United States  California  Los Angeles   90006.0   \n",
              "3  7892-POOKP    1.0  United States  California  Los Angeles   90010.0   \n",
              "4  0280-XJGEX    1.0  United States  California  Los Angeles   90015.0   \n",
              "\n",
              "                 Lat Long   Latitude   Longitude  Gender  ...        Contract  \\\n",
              "0  33.964131, -118.272783  33.964131 -118.272783    Male  ...  Month-to-month   \n",
              "1   34.059281, -118.30742  34.059281 -118.307420  Female  ...  Month-to-month   \n",
              "2  34.048013, -118.293953  34.048013 -118.293953  Female  ...  Month-to-month   \n",
              "3  34.062125, -118.315709  34.062125 -118.315709  Female  ...  Month-to-month   \n",
              "4  34.039224, -118.266293  34.039224 -118.266293    Male  ...  Month-to-month   \n",
              "\n",
              "  Paperless Billing             Payment Method  Monthly Charges Total Charges  \\\n",
              "0               Yes               Mailed check            53.85        108.15   \n",
              "1               Yes           Electronic check            70.70        151.65   \n",
              "2               Yes           Electronic check            99.65         820.5   \n",
              "3               Yes           Electronic check           104.80       3046.05   \n",
              "4               Yes  Bank transfer (automatic)           103.70        5036.3   \n",
              "\n",
              "  Churn Label Churn Value Churn Score    CLTV                   Churn Reason  \n",
              "0         Yes         1.0        86.0  3239.0   Competitor made better offer  \n",
              "1         Yes         1.0        67.0  2701.0                          Moved  \n",
              "2         Yes         1.0        86.0  5372.0                          Moved  \n",
              "3         Yes         1.0        84.0  5003.0                          Moved  \n",
              "4         Yes         1.0        89.0  5340.0  Competitor had better devices  \n",
              "\n",
              "[5 rows x 33 columns]"
            ]
          },
          "execution_count": 63,
          "metadata": {},
          "output_type": "execute_result"
        }
      ],
      "source": [
        "# view few observations of the data\n",
        "\n",
        "df_telco.head()"
      ]
    },
    {
      "cell_type": "code",
      "execution_count": 64,
      "metadata": {
        "colab": {
          "base_uri": "https://localhost:8080/"
        },
        "id": "lYDUbPjsIkT-",
        "outputId": "b9b2952a-9d57-4d8d-ca0b-a873d8d566b0"
      },
      "outputs": [
        {
          "data": {
            "text/plain": [
              "(14086, 33)"
            ]
          },
          "execution_count": 64,
          "metadata": {},
          "output_type": "execute_result"
        }
      ],
      "source": [
        "# dimensions of the dataframe\n",
        "\n",
        "df_telco.shape"
      ]
    },
    {
      "cell_type": "code",
      "execution_count": 65,
      "metadata": {
        "colab": {
          "base_uri": "https://localhost:8080/"
        },
        "id": "VRschjGEMphi",
        "outputId": "7d813c44-0594-47c3-bc45-bf8fcac86789"
      },
      "outputs": [
        {
          "name": "stdout",
          "output_type": "stream",
          "text": [
            "Column: CustomerID - Unique Values: ['3668-QPYBK' '9237-HQITU' '9305-CDSKC' ... '2234-XADUH' '4801-JZAZL'\n",
            " '3186-AJIEK']\n",
            "Column: Count - Unique Values: [ 1. nan]\n",
            "Column: Country - Unique Values: ['United States' nan]\n",
            "Column: State - Unique Values: ['California' nan]\n",
            "Column: City - Unique Values: ['Los Angeles' 'Beverly Hills' 'Huntington Park' ... 'Tulelake'\n",
            " 'Olympic Valley' nan]\n",
            "Column: Zip Code - Unique Values: [90003. 90005. 90006. ... 96134. 96146.    nan]\n",
            "Column: Lat Long - Unique Values: ['33.964131, -118.272783' '34.059281, -118.30742' '34.048013, -118.293953'\n",
            " ... '41.813521, -121.492666' '39.191797, -120.212401' nan]\n",
            "Column: Latitude - Unique Values: [33.964131 34.059281 34.048013 ... 41.813521 39.191797       nan]\n",
            "Column: Longitude - Unique Values: [-118.272783 -118.30742  -118.293953 ... -121.492666 -120.212401\n",
            "         nan]\n",
            "Column: Gender - Unique Values: ['Male' 'Female']\n",
            "Column: Senior Citizen - Unique Values: [0 1]\n",
            "Column: Partner - Unique Values: ['No' 'Yes']\n",
            "Column: Dependents - Unique Values: ['No' 'Yes']\n",
            "Column: Tenure Months - Unique Values: [ 2  8 28 49 10  1 47 17  5 34 11 15 18  9  7 12 25 68 55 37  3 27 20  4\n",
            " 58 53 13  6 19 59 16 52 24 32 38 54 43 63 21 69 22 61 60 48 40 23 39 35\n",
            " 56 65 33 30 45 46 62 70 50 44 71 26 14 41 66 64 29 42 67 51 31 57 36 72\n",
            "  0]\n",
            "Column: Phone Service - Unique Values: ['Yes' 'No']\n",
            "Column: Multiple Lines - Unique Values: ['No' 'Yes' 'No phone service']\n",
            "Column: Internet Service - Unique Values: ['DSL' 'Fiber optic' 'No']\n",
            "Column: Online Security - Unique Values: ['Yes' 'No' 'No internet service']\n",
            "Column: Online Backup - Unique Values: ['Yes' 'No' 'No internet service']\n",
            "Column: Device Protection - Unique Values: ['No' 'Yes' 'No internet service']\n",
            "Column: Tech Support - Unique Values: ['No' 'Yes' 'No internet service']\n",
            "Column: Streaming TV - Unique Values: ['No' 'Yes' 'No internet service']\n",
            "Column: Streaming Movies - Unique Values: ['No' 'Yes' 'No internet service']\n",
            "Column: Contract - Unique Values: ['Month-to-month' 'Two year' 'One year']\n",
            "Column: Paperless Billing - Unique Values: ['Yes' 'No']\n",
            "Column: Payment Method - Unique Values: ['Mailed check' 'Electronic check' 'Bank transfer (automatic)'\n",
            " 'Credit card (automatic)']\n",
            "Column: Monthly Charges - Unique Values: [ 53.85  70.7   99.65 ... 108.35  63.1   78.7 ]\n",
            "Column: Total Charges - Unique Values: [108.15 151.65 820.5 ... 7362.9 346.45 6844.5]\n",
            "Column: Churn Label - Unique Values: ['Yes' 'No']\n",
            "Column: Churn Value - Unique Values: [ 1.  0. nan]\n",
            "Column: Churn Score - Unique Values: [ 86.  67.  84.  89.  78. 100.  92.  77.  97.  74.  66.  65.  70.  90.\n",
            "  82.  69.  81.  96.  87.  88.  75.  76.  95.  99.  80.  73.  94.  83.\n",
            "  98.  71.  85.  68.  91.  93.  72.  79.  27.  61.  43.  51.  58.  39.\n",
            "  35.  57.  53.  21.  38.  40.  41.  22.  25.  64.  49.  62.  52.  59.\n",
            "  29.  33.  20.  30.  26.  54.  56.  55.  28.  37.   9.  60.  24.  63.\n",
            "  23.  47.  32.   8.  46.  42.  48.  36.  34.   7.  50.  44.  31.   5.\n",
            "  45.  nan]\n",
            "Column: CLTV - Unique Values: [3239. 2701. 5372. ... 4645. 5553.   nan]\n",
            "Column: Churn Reason - Unique Values: ['Competitor made better offer' 'Moved' 'Competitor had better devices'\n",
            " 'Competitor offered higher download speeds'\n",
            " 'Competitor offered more data' 'Price too high' 'Product dissatisfaction'\n",
            " 'Service dissatisfaction' 'Lack of self-service on Website'\n",
            " 'Network reliability' 'Limited range of services'\n",
            " 'Lack of affordable download/upload speed' 'Long distance charges'\n",
            " 'Extra data charges' \"Don't know\" 'Poor expertise of online support'\n",
            " 'Poor expertise of phone support' 'Attitude of service provider'\n",
            " 'Attitude of support person' 'Deceased' nan]\n"
          ]
        }
      ],
      "source": [
        "# check unique values of each column\n",
        "\n",
        "for column in df_telco.columns:\n",
        "    print('Column: {} - Unique Values: {}'.format(column, df_telco[column].unique()))"
      ]
    },
    {
      "cell_type": "markdown",
      "metadata": {
        "id": "Hd-sZeHVNABy"
      },
      "source": [
        "Dataset contains several independent variables, which can be classified into 3 groups:\n",
        "\n",
        "(1) Demographic Information\n",
        "\n",
        "* Gender: Whether the client is a female or a male (Female, Male).\n",
        "* Senior Citizen: Whether the client is a senior citizen or not ( 0, 1)\n",
        "* Partner: Whether the client has a partner or not (Yes, No).\n",
        "* Dependents: Whether the client has dependents or not (Yes, No).\n",
        "\n",
        "(2) Customer Account Information\n",
        "\n",
        "* Tenure: Number of months the customer has stayed with the company (Multiple different numeric values).\n",
        "* Contract: Indicates the customer’s current contract type (Month-to-Month, One year, Two year).\n",
        "* Paperless Billing: Whether the client has paperless billing or not (Yes, No).\n",
        "* Payment Method: The customer’s payment method (Electronic check, Mailed check, Bank transfer (automatic), Credit Card (automatic)).\n",
        "* Montly Charges: The amount charged to the customer monthly (Multiple different numeric values).\n",
        "* Total Charges: The total amount charged to the customer (Multiple different numeric values).\n",
        "\n",
        "(3) Services Information\n",
        "\n",
        "* Phone Service: Whether the client has a phone service or not (Yes, No).\n",
        "* Multiple Lines: Whether the client has multiple lines or not (No phone service, No, Yes).\n",
        "* Internet Services: Whether the client is subscribed to Internet service with the company (DSL, Fiber optic, No)\n",
        "* Online Security: Whether the client has online security or not (No internet service, No, Yes).\n",
        "* Online Backup: Whether the client has online backup or not (No internet service, No, Yes).\n",
        "* Device Protection: Whether the client has device protection or not (No internet service, No, Yes).\n",
        "* Tech Support: Whether the client has tech support or not (No internet service, No, Yes).\n",
        "* Streaming TV: Whether the client has streaming TV or not (No internet service, No, Yes).\n",
        "* Streaming Movies: Whether the client has streaming movies or not (No internet service, No, Yes)."
      ]
    },
    {
      "cell_type": "markdown",
      "metadata": {
        "id": "l9beQrc3NlBd"
      },
      "source": [
        "# Exploratory Data Analysis and Data Cleaning:"
      ]
    },
    {
      "cell_type": "code",
      "execution_count": 66,
      "metadata": {
        "colab": {
          "base_uri": "https://localhost:8080/"
        },
        "id": "n9xR3VUpN6bz",
        "outputId": "237d1630-5e8b-4b0a-9a00-25a461a7fda5"
      },
      "outputs": [
        {
          "name": "stdout",
          "output_type": "stream",
          "text": [
            "<class 'pandas.core.frame.DataFrame'>\n",
            "RangeIndex: 14086 entries, 0 to 14085\n",
            "Data columns (total 33 columns):\n",
            " #   Column             Non-Null Count  Dtype  \n",
            "---  ------             --------------  -----  \n",
            " 0   CustomerID         14086 non-null  object \n",
            " 1   Count              7043 non-null   float64\n",
            " 2   Country            7043 non-null   object \n",
            " 3   State              7043 non-null   object \n",
            " 4   City               7043 non-null   object \n",
            " 5   Zip Code           7043 non-null   float64\n",
            " 6   Lat Long           7043 non-null   object \n",
            " 7   Latitude           7043 non-null   float64\n",
            " 8   Longitude          7043 non-null   float64\n",
            " 9   Gender             14086 non-null  object \n",
            " 10  Senior Citizen     14086 non-null  int64  \n",
            " 11  Partner            14086 non-null  object \n",
            " 12  Dependents         14086 non-null  object \n",
            " 13  Tenure Months      14086 non-null  int64  \n",
            " 14  Phone Service      14086 non-null  object \n",
            " 15  Multiple Lines     14086 non-null  object \n",
            " 16  Internet Service   14086 non-null  object \n",
            " 17  Online Security    14086 non-null  object \n",
            " 18  Online Backup      14086 non-null  object \n",
            " 19  Device Protection  14086 non-null  object \n",
            " 20  Tech Support       14086 non-null  object \n",
            " 21  Streaming TV       14086 non-null  object \n",
            " 22  Streaming Movies   14086 non-null  object \n",
            " 23  Contract           14086 non-null  object \n",
            " 24  Paperless Billing  14086 non-null  object \n",
            " 25  Payment Method     14086 non-null  object \n",
            " 26  Monthly Charges    14086 non-null  float64\n",
            " 27  Total Charges      14086 non-null  object \n",
            " 28  Churn Label        14086 non-null  object \n",
            " 29  Churn Value        7043 non-null   float64\n",
            " 30  Churn Score        7043 non-null   float64\n",
            " 31  CLTV               7043 non-null   float64\n",
            " 32  Churn Reason       1869 non-null   object \n",
            "dtypes: float64(8), int64(2), object(23)\n",
            "memory usage: 3.5+ MB\n"
          ]
        }
      ],
      "source": [
        "# summary of the data frame\n",
        "\n",
        "df_telco.info()"
      ]
    },
    {
      "cell_type": "code",
      "execution_count": 67,
      "metadata": {
        "colab": {
          "base_uri": "https://localhost:8080/",
          "height": 358
        },
        "id": "stbvQwNCOdrS",
        "outputId": "85b72016-4648-4b64-8ff3-5b380d3fa3a6"
      },
      "outputs": [
        {
          "data": {
            "text/html": [
              "<div>\n",
              "<style scoped>\n",
              "    .dataframe tbody tr th:only-of-type {\n",
              "        vertical-align: middle;\n",
              "    }\n",
              "\n",
              "    .dataframe tbody tr th {\n",
              "        vertical-align: top;\n",
              "    }\n",
              "\n",
              "    .dataframe thead th {\n",
              "        text-align: right;\n",
              "    }\n",
              "</style>\n",
              "<table border=\"1\" class=\"dataframe\">\n",
              "  <thead>\n",
              "    <tr style=\"text-align: right;\">\n",
              "      <th></th>\n",
              "      <th>Count</th>\n",
              "      <th>Zip Code</th>\n",
              "      <th>Latitude</th>\n",
              "      <th>Longitude</th>\n",
              "      <th>Senior Citizen</th>\n",
              "      <th>Tenure Months</th>\n",
              "      <th>Monthly Charges</th>\n",
              "      <th>Churn Value</th>\n",
              "      <th>Churn Score</th>\n",
              "      <th>CLTV</th>\n",
              "    </tr>\n",
              "  </thead>\n",
              "  <tbody>\n",
              "    <tr>\n",
              "      <th>count</th>\n",
              "      <td>7043.0</td>\n",
              "      <td>7043.000000</td>\n",
              "      <td>7043.000000</td>\n",
              "      <td>7043.000000</td>\n",
              "      <td>14086.000000</td>\n",
              "      <td>14086.000000</td>\n",
              "      <td>14086.000000</td>\n",
              "      <td>7043.000000</td>\n",
              "      <td>7043.000000</td>\n",
              "      <td>7043.000000</td>\n",
              "    </tr>\n",
              "    <tr>\n",
              "      <th>mean</th>\n",
              "      <td>1.0</td>\n",
              "      <td>93521.964646</td>\n",
              "      <td>36.282441</td>\n",
              "      <td>-119.798880</td>\n",
              "      <td>0.162147</td>\n",
              "      <td>32.371149</td>\n",
              "      <td>64.761692</td>\n",
              "      <td>0.265370</td>\n",
              "      <td>58.699418</td>\n",
              "      <td>4400.295755</td>\n",
              "    </tr>\n",
              "    <tr>\n",
              "      <th>std</th>\n",
              "      <td>0.0</td>\n",
              "      <td>1865.794555</td>\n",
              "      <td>2.455723</td>\n",
              "      <td>2.157889</td>\n",
              "      <td>0.368599</td>\n",
              "      <td>24.558609</td>\n",
              "      <td>30.088979</td>\n",
              "      <td>0.441561</td>\n",
              "      <td>21.525131</td>\n",
              "      <td>1183.057152</td>\n",
              "    </tr>\n",
              "    <tr>\n",
              "      <th>min</th>\n",
              "      <td>1.0</td>\n",
              "      <td>90001.000000</td>\n",
              "      <td>32.555828</td>\n",
              "      <td>-124.301372</td>\n",
              "      <td>0.000000</td>\n",
              "      <td>0.000000</td>\n",
              "      <td>18.250000</td>\n",
              "      <td>0.000000</td>\n",
              "      <td>5.000000</td>\n",
              "      <td>2003.000000</td>\n",
              "    </tr>\n",
              "    <tr>\n",
              "      <th>25%</th>\n",
              "      <td>1.0</td>\n",
              "      <td>92102.000000</td>\n",
              "      <td>34.030915</td>\n",
              "      <td>-121.815412</td>\n",
              "      <td>0.000000</td>\n",
              "      <td>9.000000</td>\n",
              "      <td>35.500000</td>\n",
              "      <td>0.000000</td>\n",
              "      <td>40.000000</td>\n",
              "      <td>3469.000000</td>\n",
              "    </tr>\n",
              "    <tr>\n",
              "      <th>50%</th>\n",
              "      <td>1.0</td>\n",
              "      <td>93552.000000</td>\n",
              "      <td>36.391777</td>\n",
              "      <td>-119.730885</td>\n",
              "      <td>0.000000</td>\n",
              "      <td>29.000000</td>\n",
              "      <td>70.350000</td>\n",
              "      <td>0.000000</td>\n",
              "      <td>61.000000</td>\n",
              "      <td>4527.000000</td>\n",
              "    </tr>\n",
              "    <tr>\n",
              "      <th>75%</th>\n",
              "      <td>1.0</td>\n",
              "      <td>95351.000000</td>\n",
              "      <td>38.224869</td>\n",
              "      <td>-118.043237</td>\n",
              "      <td>0.000000</td>\n",
              "      <td>55.000000</td>\n",
              "      <td>89.850000</td>\n",
              "      <td>1.000000</td>\n",
              "      <td>75.000000</td>\n",
              "      <td>5380.500000</td>\n",
              "    </tr>\n",
              "    <tr>\n",
              "      <th>max</th>\n",
              "      <td>1.0</td>\n",
              "      <td>96161.000000</td>\n",
              "      <td>41.962127</td>\n",
              "      <td>-114.192901</td>\n",
              "      <td>1.000000</td>\n",
              "      <td>72.000000</td>\n",
              "      <td>118.750000</td>\n",
              "      <td>1.000000</td>\n",
              "      <td>100.000000</td>\n",
              "      <td>6500.000000</td>\n",
              "    </tr>\n",
              "  </tbody>\n",
              "</table>\n",
              "</div>"
            ],
            "text/plain": [
              "        Count      Zip Code     Latitude    Longitude  Senior Citizen  \\\n",
              "count  7043.0   7043.000000  7043.000000  7043.000000    14086.000000   \n",
              "mean      1.0  93521.964646    36.282441  -119.798880        0.162147   \n",
              "std       0.0   1865.794555     2.455723     2.157889        0.368599   \n",
              "min       1.0  90001.000000    32.555828  -124.301372        0.000000   \n",
              "25%       1.0  92102.000000    34.030915  -121.815412        0.000000   \n",
              "50%       1.0  93552.000000    36.391777  -119.730885        0.000000   \n",
              "75%       1.0  95351.000000    38.224869  -118.043237        0.000000   \n",
              "max       1.0  96161.000000    41.962127  -114.192901        1.000000   \n",
              "\n",
              "       Tenure Months  Monthly Charges  Churn Value  Churn Score         CLTV  \n",
              "count   14086.000000     14086.000000  7043.000000  7043.000000  7043.000000  \n",
              "mean       32.371149        64.761692     0.265370    58.699418  4400.295755  \n",
              "std        24.558609        30.088979     0.441561    21.525131  1183.057152  \n",
              "min         0.000000        18.250000     0.000000     5.000000  2003.000000  \n",
              "25%         9.000000        35.500000     0.000000    40.000000  3469.000000  \n",
              "50%        29.000000        70.350000     0.000000    61.000000  4527.000000  \n",
              "75%        55.000000        89.850000     1.000000    75.000000  5380.500000  \n",
              "max        72.000000       118.750000     1.000000   100.000000  6500.000000  "
            ]
          },
          "execution_count": 67,
          "metadata": {},
          "output_type": "execute_result"
        }
      ],
      "source": [
        "# summary statistics of the data\n",
        "\n",
        "df_telco.describe()"
      ]
    },
    {
      "cell_type": "code",
      "execution_count": 68,
      "metadata": {
        "id": "fxJnQArYOlyp"
      },
      "outputs": [],
      "source": [
        "# create function to generate report of the data\n",
        "\n",
        "def report(df):\n",
        "    col = []\n",
        "    d_type = []\n",
        "    uniques = []\n",
        "    n_uniques = []\n",
        "    \n",
        "    for i in df.columns:\n",
        "        col.append(i)\n",
        "        d_type.append(df[i].dtypes)\n",
        "        uniques.append(df[i].unique()[:5])\n",
        "        n_uniques.append(df[i].nunique())\n",
        "    \n",
        "    return pd.DataFrame({'Column': col, 'd_type': d_type, 'unique_sample': uniques, 'n_uniques': n_uniques})"
      ]
    },
    {
      "cell_type": "code",
      "execution_count": 69,
      "metadata": {
        "colab": {
          "base_uri": "https://localhost:8080/",
          "height": 1000
        },
        "id": "IF2VO9uqOrWU",
        "outputId": "ea57483f-2c05-487c-f9f1-90028182cf65"
      },
      "outputs": [
        {
          "data": {
            "text/html": [
              "<div>\n",
              "<style scoped>\n",
              "    .dataframe tbody tr th:only-of-type {\n",
              "        vertical-align: middle;\n",
              "    }\n",
              "\n",
              "    .dataframe tbody tr th {\n",
              "        vertical-align: top;\n",
              "    }\n",
              "\n",
              "    .dataframe thead th {\n",
              "        text-align: right;\n",
              "    }\n",
              "</style>\n",
              "<table border=\"1\" class=\"dataframe\">\n",
              "  <thead>\n",
              "    <tr style=\"text-align: right;\">\n",
              "      <th></th>\n",
              "      <th>Column</th>\n",
              "      <th>d_type</th>\n",
              "      <th>unique_sample</th>\n",
              "      <th>n_uniques</th>\n",
              "    </tr>\n",
              "  </thead>\n",
              "  <tbody>\n",
              "    <tr>\n",
              "      <th>0</th>\n",
              "      <td>CustomerID</td>\n",
              "      <td>object</td>\n",
              "      <td>[3668-QPYBK, 9237-HQITU, 9305-CDSKC, 7892-POOK...</td>\n",
              "      <td>7043</td>\n",
              "    </tr>\n",
              "    <tr>\n",
              "      <th>1</th>\n",
              "      <td>Count</td>\n",
              "      <td>float64</td>\n",
              "      <td>[1.0, nan]</td>\n",
              "      <td>1</td>\n",
              "    </tr>\n",
              "    <tr>\n",
              "      <th>2</th>\n",
              "      <td>Country</td>\n",
              "      <td>object</td>\n",
              "      <td>[United States, nan]</td>\n",
              "      <td>1</td>\n",
              "    </tr>\n",
              "    <tr>\n",
              "      <th>3</th>\n",
              "      <td>State</td>\n",
              "      <td>object</td>\n",
              "      <td>[California, nan]</td>\n",
              "      <td>1</td>\n",
              "    </tr>\n",
              "    <tr>\n",
              "      <th>4</th>\n",
              "      <td>City</td>\n",
              "      <td>object</td>\n",
              "      <td>[Los Angeles, Beverly Hills, Huntington Park, ...</td>\n",
              "      <td>1129</td>\n",
              "    </tr>\n",
              "    <tr>\n",
              "      <th>5</th>\n",
              "      <td>Zip Code</td>\n",
              "      <td>float64</td>\n",
              "      <td>[90003.0, 90005.0, 90006.0, 90010.0, 90015.0]</td>\n",
              "      <td>1652</td>\n",
              "    </tr>\n",
              "    <tr>\n",
              "      <th>6</th>\n",
              "      <td>Lat Long</td>\n",
              "      <td>object</td>\n",
              "      <td>[33.964131, -118.272783, 34.059281, -118.30742...</td>\n",
              "      <td>1652</td>\n",
              "    </tr>\n",
              "    <tr>\n",
              "      <th>7</th>\n",
              "      <td>Latitude</td>\n",
              "      <td>float64</td>\n",
              "      <td>[33.964131, 34.059281, 34.048013, 34.062125, 3...</td>\n",
              "      <td>1652</td>\n",
              "    </tr>\n",
              "    <tr>\n",
              "      <th>8</th>\n",
              "      <td>Longitude</td>\n",
              "      <td>float64</td>\n",
              "      <td>[-118.272783, -118.30742, -118.293953, -118.31...</td>\n",
              "      <td>1651</td>\n",
              "    </tr>\n",
              "    <tr>\n",
              "      <th>9</th>\n",
              "      <td>Gender</td>\n",
              "      <td>object</td>\n",
              "      <td>[Male, Female]</td>\n",
              "      <td>2</td>\n",
              "    </tr>\n",
              "    <tr>\n",
              "      <th>10</th>\n",
              "      <td>Senior Citizen</td>\n",
              "      <td>int64</td>\n",
              "      <td>[0, 1]</td>\n",
              "      <td>2</td>\n",
              "    </tr>\n",
              "    <tr>\n",
              "      <th>11</th>\n",
              "      <td>Partner</td>\n",
              "      <td>object</td>\n",
              "      <td>[No, Yes]</td>\n",
              "      <td>2</td>\n",
              "    </tr>\n",
              "    <tr>\n",
              "      <th>12</th>\n",
              "      <td>Dependents</td>\n",
              "      <td>object</td>\n",
              "      <td>[No, Yes]</td>\n",
              "      <td>2</td>\n",
              "    </tr>\n",
              "    <tr>\n",
              "      <th>13</th>\n",
              "      <td>Tenure Months</td>\n",
              "      <td>int64</td>\n",
              "      <td>[2, 8, 28, 49, 10]</td>\n",
              "      <td>73</td>\n",
              "    </tr>\n",
              "    <tr>\n",
              "      <th>14</th>\n",
              "      <td>Phone Service</td>\n",
              "      <td>object</td>\n",
              "      <td>[Yes, No]</td>\n",
              "      <td>2</td>\n",
              "    </tr>\n",
              "    <tr>\n",
              "      <th>15</th>\n",
              "      <td>Multiple Lines</td>\n",
              "      <td>object</td>\n",
              "      <td>[No, Yes, No phone service]</td>\n",
              "      <td>3</td>\n",
              "    </tr>\n",
              "    <tr>\n",
              "      <th>16</th>\n",
              "      <td>Internet Service</td>\n",
              "      <td>object</td>\n",
              "      <td>[DSL, Fiber optic, No]</td>\n",
              "      <td>3</td>\n",
              "    </tr>\n",
              "    <tr>\n",
              "      <th>17</th>\n",
              "      <td>Online Security</td>\n",
              "      <td>object</td>\n",
              "      <td>[Yes, No, No internet service]</td>\n",
              "      <td>3</td>\n",
              "    </tr>\n",
              "    <tr>\n",
              "      <th>18</th>\n",
              "      <td>Online Backup</td>\n",
              "      <td>object</td>\n",
              "      <td>[Yes, No, No internet service]</td>\n",
              "      <td>3</td>\n",
              "    </tr>\n",
              "    <tr>\n",
              "      <th>19</th>\n",
              "      <td>Device Protection</td>\n",
              "      <td>object</td>\n",
              "      <td>[No, Yes, No internet service]</td>\n",
              "      <td>3</td>\n",
              "    </tr>\n",
              "    <tr>\n",
              "      <th>20</th>\n",
              "      <td>Tech Support</td>\n",
              "      <td>object</td>\n",
              "      <td>[No, Yes, No internet service]</td>\n",
              "      <td>3</td>\n",
              "    </tr>\n",
              "    <tr>\n",
              "      <th>21</th>\n",
              "      <td>Streaming TV</td>\n",
              "      <td>object</td>\n",
              "      <td>[No, Yes, No internet service]</td>\n",
              "      <td>3</td>\n",
              "    </tr>\n",
              "    <tr>\n",
              "      <th>22</th>\n",
              "      <td>Streaming Movies</td>\n",
              "      <td>object</td>\n",
              "      <td>[No, Yes, No internet service]</td>\n",
              "      <td>3</td>\n",
              "    </tr>\n",
              "    <tr>\n",
              "      <th>23</th>\n",
              "      <td>Contract</td>\n",
              "      <td>object</td>\n",
              "      <td>[Month-to-month, Two year, One year]</td>\n",
              "      <td>3</td>\n",
              "    </tr>\n",
              "    <tr>\n",
              "      <th>24</th>\n",
              "      <td>Paperless Billing</td>\n",
              "      <td>object</td>\n",
              "      <td>[Yes, No]</td>\n",
              "      <td>2</td>\n",
              "    </tr>\n",
              "    <tr>\n",
              "      <th>25</th>\n",
              "      <td>Payment Method</td>\n",
              "      <td>object</td>\n",
              "      <td>[Mailed check, Electronic check, Bank transfer...</td>\n",
              "      <td>4</td>\n",
              "    </tr>\n",
              "    <tr>\n",
              "      <th>26</th>\n",
              "      <td>Monthly Charges</td>\n",
              "      <td>float64</td>\n",
              "      <td>[53.85, 70.7, 99.65, 104.8, 103.7]</td>\n",
              "      <td>1585</td>\n",
              "    </tr>\n",
              "    <tr>\n",
              "      <th>27</th>\n",
              "      <td>Total Charges</td>\n",
              "      <td>object</td>\n",
              "      <td>[108.15, 151.65, 820.5, 3046.05, 5036.3]</td>\n",
              "      <td>6531</td>\n",
              "    </tr>\n",
              "    <tr>\n",
              "      <th>28</th>\n",
              "      <td>Churn Label</td>\n",
              "      <td>object</td>\n",
              "      <td>[Yes, No]</td>\n",
              "      <td>2</td>\n",
              "    </tr>\n",
              "    <tr>\n",
              "      <th>29</th>\n",
              "      <td>Churn Value</td>\n",
              "      <td>float64</td>\n",
              "      <td>[1.0, 0.0, nan]</td>\n",
              "      <td>2</td>\n",
              "    </tr>\n",
              "    <tr>\n",
              "      <th>30</th>\n",
              "      <td>Churn Score</td>\n",
              "      <td>float64</td>\n",
              "      <td>[86.0, 67.0, 84.0, 89.0, 78.0]</td>\n",
              "      <td>85</td>\n",
              "    </tr>\n",
              "    <tr>\n",
              "      <th>31</th>\n",
              "      <td>CLTV</td>\n",
              "      <td>float64</td>\n",
              "      <td>[3239.0, 2701.0, 5372.0, 5003.0, 5340.0]</td>\n",
              "      <td>3438</td>\n",
              "    </tr>\n",
              "    <tr>\n",
              "      <th>32</th>\n",
              "      <td>Churn Reason</td>\n",
              "      <td>object</td>\n",
              "      <td>[Competitor made better offer, Moved, Competit...</td>\n",
              "      <td>20</td>\n",
              "    </tr>\n",
              "  </tbody>\n",
              "</table>\n",
              "</div>"
            ],
            "text/plain": [
              "               Column   d_type  \\\n",
              "0          CustomerID   object   \n",
              "1               Count  float64   \n",
              "2             Country   object   \n",
              "3               State   object   \n",
              "4                City   object   \n",
              "5            Zip Code  float64   \n",
              "6            Lat Long   object   \n",
              "7            Latitude  float64   \n",
              "8           Longitude  float64   \n",
              "9              Gender   object   \n",
              "10     Senior Citizen    int64   \n",
              "11            Partner   object   \n",
              "12         Dependents   object   \n",
              "13      Tenure Months    int64   \n",
              "14      Phone Service   object   \n",
              "15     Multiple Lines   object   \n",
              "16   Internet Service   object   \n",
              "17    Online Security   object   \n",
              "18      Online Backup   object   \n",
              "19  Device Protection   object   \n",
              "20       Tech Support   object   \n",
              "21       Streaming TV   object   \n",
              "22   Streaming Movies   object   \n",
              "23           Contract   object   \n",
              "24  Paperless Billing   object   \n",
              "25     Payment Method   object   \n",
              "26    Monthly Charges  float64   \n",
              "27      Total Charges   object   \n",
              "28        Churn Label   object   \n",
              "29        Churn Value  float64   \n",
              "30        Churn Score  float64   \n",
              "31               CLTV  float64   \n",
              "32       Churn Reason   object   \n",
              "\n",
              "                                        unique_sample  n_uniques  \n",
              "0   [3668-QPYBK, 9237-HQITU, 9305-CDSKC, 7892-POOK...       7043  \n",
              "1                                          [1.0, nan]          1  \n",
              "2                                [United States, nan]          1  \n",
              "3                                   [California, nan]          1  \n",
              "4   [Los Angeles, Beverly Hills, Huntington Park, ...       1129  \n",
              "5       [90003.0, 90005.0, 90006.0, 90010.0, 90015.0]       1652  \n",
              "6   [33.964131, -118.272783, 34.059281, -118.30742...       1652  \n",
              "7   [33.964131, 34.059281, 34.048013, 34.062125, 3...       1652  \n",
              "8   [-118.272783, -118.30742, -118.293953, -118.31...       1651  \n",
              "9                                      [Male, Female]          2  \n",
              "10                                             [0, 1]          2  \n",
              "11                                          [No, Yes]          2  \n",
              "12                                          [No, Yes]          2  \n",
              "13                                 [2, 8, 28, 49, 10]         73  \n",
              "14                                          [Yes, No]          2  \n",
              "15                        [No, Yes, No phone service]          3  \n",
              "16                             [DSL, Fiber optic, No]          3  \n",
              "17                     [Yes, No, No internet service]          3  \n",
              "18                     [Yes, No, No internet service]          3  \n",
              "19                     [No, Yes, No internet service]          3  \n",
              "20                     [No, Yes, No internet service]          3  \n",
              "21                     [No, Yes, No internet service]          3  \n",
              "22                     [No, Yes, No internet service]          3  \n",
              "23               [Month-to-month, Two year, One year]          3  \n",
              "24                                          [Yes, No]          2  \n",
              "25  [Mailed check, Electronic check, Bank transfer...          4  \n",
              "26                 [53.85, 70.7, 99.65, 104.8, 103.7]       1585  \n",
              "27           [108.15, 151.65, 820.5, 3046.05, 5036.3]       6531  \n",
              "28                                          [Yes, No]          2  \n",
              "29                                    [1.0, 0.0, nan]          2  \n",
              "30                     [86.0, 67.0, 84.0, 89.0, 78.0]         85  \n",
              "31           [3239.0, 2701.0, 5372.0, 5003.0, 5340.0]       3438  \n",
              "32  [Competitor made better offer, Moved, Competit...         20  "
            ]
          },
          "execution_count": 69,
          "metadata": {},
          "output_type": "execute_result"
        }
      ],
      "source": [
        "# show unique samples of the data\n",
        "\n",
        "report(df_telco)"
      ]
    },
    {
      "cell_type": "markdown",
      "metadata": {
        "id": "kDXI2DhxOzCv"
      },
      "source": [
        "We have made a brief report on this data. From this report we will determine which columns to delete.\n",
        "\n",
        "From the dataframe above, there are several columns which have only one unique value, namely the columns: Count, Country, State hence we will remove those. In addition, we will not use the CustmerID column as it does not determine the probability of the model of churn prediction in any way. Zip code, Lat Long, Latitude, Longitude columns will also be deleted. We will not use it to build Machine Learning. We will also delete Churn Reason column because further while removing null values, observations for \"Churn Label: No\" will be removed and hence we won't be able to visualize the data grouped by class. We will use it separately in different dataframe just for looking some insights."
      ]
    },
    {
      "cell_type": "code",
      "execution_count": 70,
      "metadata": {
        "id": "rV5F_lBJO4BB"
      },
      "outputs": [],
      "source": [
        "# drop columns which does not determine the probability of the model\n",
        "\n",
        "df_telco.drop([\"CustomerID\",\"Count\", \"Country\",\"State\",\"City\",\"Zip Code\",\"Lat Long\",\"Latitude\",\"Longitude\",\"Churn Score\",\"CLTV\",\"Churn Reason\"], axis = 1, inplace=True)"
      ]
    },
    {
      "cell_type": "code",
      "execution_count": 71,
      "metadata": {
        "colab": {
          "base_uri": "https://localhost:8080/"
        },
        "id": "7ptEA3cDPQzt",
        "outputId": "6e212741-81c9-4817-d033-fe0831cf9121"
      },
      "outputs": [
        {
          "name": "stdout",
          "output_type": "stream",
          "text": [
            "<class 'pandas.core.frame.DataFrame'>\n",
            "RangeIndex: 14086 entries, 0 to 14085\n",
            "Data columns (total 21 columns):\n",
            " #   Column             Non-Null Count  Dtype  \n",
            "---  ------             --------------  -----  \n",
            " 0   Gender             14086 non-null  object \n",
            " 1   Senior Citizen     14086 non-null  int64  \n",
            " 2   Partner            14086 non-null  object \n",
            " 3   Dependents         14086 non-null  object \n",
            " 4   Tenure Months      14086 non-null  int64  \n",
            " 5   Phone Service      14086 non-null  object \n",
            " 6   Multiple Lines     14086 non-null  object \n",
            " 7   Internet Service   14086 non-null  object \n",
            " 8   Online Security    14086 non-null  object \n",
            " 9   Online Backup      14086 non-null  object \n",
            " 10  Device Protection  14086 non-null  object \n",
            " 11  Tech Support       14086 non-null  object \n",
            " 12  Streaming TV       14086 non-null  object \n",
            " 13  Streaming Movies   14086 non-null  object \n",
            " 14  Contract           14086 non-null  object \n",
            " 15  Paperless Billing  14086 non-null  object \n",
            " 16  Payment Method     14086 non-null  object \n",
            " 17  Monthly Charges    14086 non-null  float64\n",
            " 18  Total Charges      14086 non-null  object \n",
            " 19  Churn Label        14086 non-null  object \n",
            " 20  Churn Value        7043 non-null   float64\n",
            "dtypes: float64(2), int64(2), object(17)\n",
            "memory usage: 2.3+ MB\n"
          ]
        }
      ],
      "source": [
        "# summary of the data after dropping few columns\n",
        "\n",
        "df_telco.info()"
      ]
    },
    {
      "cell_type": "markdown",
      "metadata": {
        "id": "7DrEZh1HQOVE"
      },
      "source": [
        "The Dataset now contains 14,086 observations and 21 columns. Apparently, there are no null values in the dataset; however column \"Total Charges\" was wrongly detected as an object. It represents the total amount charged to the customer and it is, therefore, a numeric variable. For further analysis, we need to transform this column into a numeric data type."
      ]
    },
    {
      "cell_type": "code",
      "execution_count": 72,
      "metadata": {
        "colab": {
          "base_uri": "https://localhost:8080/",
          "height": 1000
        },
        "id": "f8cgUHIlQdJF",
        "outputId": "68bf2c5f-5fa8-4b75-fb6a-805f3de36061"
      },
      "outputs": [
        {
          "data": {
            "text/html": [
              "<div>\n",
              "<style scoped>\n",
              "    .dataframe tbody tr th:only-of-type {\n",
              "        vertical-align: middle;\n",
              "    }\n",
              "\n",
              "    .dataframe tbody tr th {\n",
              "        vertical-align: top;\n",
              "    }\n",
              "\n",
              "    .dataframe thead th {\n",
              "        text-align: right;\n",
              "    }\n",
              "</style>\n",
              "<table border=\"1\" class=\"dataframe\">\n",
              "  <thead>\n",
              "    <tr style=\"text-align: right;\">\n",
              "      <th></th>\n",
              "      <th>Gender</th>\n",
              "      <th>Senior Citizen</th>\n",
              "      <th>Partner</th>\n",
              "      <th>Dependents</th>\n",
              "      <th>Tenure Months</th>\n",
              "      <th>Phone Service</th>\n",
              "      <th>Multiple Lines</th>\n",
              "      <th>Internet Service</th>\n",
              "      <th>Online Security</th>\n",
              "      <th>Online Backup</th>\n",
              "      <th>...</th>\n",
              "      <th>Tech Support</th>\n",
              "      <th>Streaming TV</th>\n",
              "      <th>Streaming Movies</th>\n",
              "      <th>Contract</th>\n",
              "      <th>Paperless Billing</th>\n",
              "      <th>Payment Method</th>\n",
              "      <th>Monthly Charges</th>\n",
              "      <th>Total Charges</th>\n",
              "      <th>Churn Label</th>\n",
              "      <th>Churn Value</th>\n",
              "    </tr>\n",
              "  </thead>\n",
              "  <tbody>\n",
              "    <tr>\n",
              "      <th>2234</th>\n",
              "      <td>Female</td>\n",
              "      <td>0</td>\n",
              "      <td>Yes</td>\n",
              "      <td>No</td>\n",
              "      <td>0</td>\n",
              "      <td>No</td>\n",
              "      <td>No phone service</td>\n",
              "      <td>DSL</td>\n",
              "      <td>Yes</td>\n",
              "      <td>No</td>\n",
              "      <td>...</td>\n",
              "      <td>Yes</td>\n",
              "      <td>Yes</td>\n",
              "      <td>No</td>\n",
              "      <td>Two year</td>\n",
              "      <td>Yes</td>\n",
              "      <td>Bank transfer (automatic)</td>\n",
              "      <td>52.55</td>\n",
              "      <td>NaN</td>\n",
              "      <td>No</td>\n",
              "      <td>0.0</td>\n",
              "    </tr>\n",
              "    <tr>\n",
              "      <th>2438</th>\n",
              "      <td>Male</td>\n",
              "      <td>0</td>\n",
              "      <td>No</td>\n",
              "      <td>No</td>\n",
              "      <td>0</td>\n",
              "      <td>Yes</td>\n",
              "      <td>No</td>\n",
              "      <td>No</td>\n",
              "      <td>No internet service</td>\n",
              "      <td>No internet service</td>\n",
              "      <td>...</td>\n",
              "      <td>No internet service</td>\n",
              "      <td>No internet service</td>\n",
              "      <td>No internet service</td>\n",
              "      <td>Two year</td>\n",
              "      <td>No</td>\n",
              "      <td>Mailed check</td>\n",
              "      <td>20.25</td>\n",
              "      <td>NaN</td>\n",
              "      <td>No</td>\n",
              "      <td>0.0</td>\n",
              "    </tr>\n",
              "    <tr>\n",
              "      <th>2568</th>\n",
              "      <td>Female</td>\n",
              "      <td>0</td>\n",
              "      <td>Yes</td>\n",
              "      <td>No</td>\n",
              "      <td>0</td>\n",
              "      <td>Yes</td>\n",
              "      <td>No</td>\n",
              "      <td>DSL</td>\n",
              "      <td>Yes</td>\n",
              "      <td>Yes</td>\n",
              "      <td>...</td>\n",
              "      <td>No</td>\n",
              "      <td>Yes</td>\n",
              "      <td>Yes</td>\n",
              "      <td>Two year</td>\n",
              "      <td>No</td>\n",
              "      <td>Mailed check</td>\n",
              "      <td>80.85</td>\n",
              "      <td>NaN</td>\n",
              "      <td>No</td>\n",
              "      <td>0.0</td>\n",
              "    </tr>\n",
              "    <tr>\n",
              "      <th>2667</th>\n",
              "      <td>Male</td>\n",
              "      <td>0</td>\n",
              "      <td>Yes</td>\n",
              "      <td>Yes</td>\n",
              "      <td>0</td>\n",
              "      <td>Yes</td>\n",
              "      <td>Yes</td>\n",
              "      <td>No</td>\n",
              "      <td>No internet service</td>\n",
              "      <td>No internet service</td>\n",
              "      <td>...</td>\n",
              "      <td>No internet service</td>\n",
              "      <td>No internet service</td>\n",
              "      <td>No internet service</td>\n",
              "      <td>Two year</td>\n",
              "      <td>No</td>\n",
              "      <td>Mailed check</td>\n",
              "      <td>25.75</td>\n",
              "      <td>NaN</td>\n",
              "      <td>No</td>\n",
              "      <td>0.0</td>\n",
              "    </tr>\n",
              "    <tr>\n",
              "      <th>2856</th>\n",
              "      <td>Female</td>\n",
              "      <td>0</td>\n",
              "      <td>Yes</td>\n",
              "      <td>No</td>\n",
              "      <td>0</td>\n",
              "      <td>No</td>\n",
              "      <td>No phone service</td>\n",
              "      <td>DSL</td>\n",
              "      <td>Yes</td>\n",
              "      <td>Yes</td>\n",
              "      <td>...</td>\n",
              "      <td>Yes</td>\n",
              "      <td>Yes</td>\n",
              "      <td>No</td>\n",
              "      <td>Two year</td>\n",
              "      <td>No</td>\n",
              "      <td>Credit card (automatic)</td>\n",
              "      <td>56.05</td>\n",
              "      <td>NaN</td>\n",
              "      <td>No</td>\n",
              "      <td>0.0</td>\n",
              "    </tr>\n",
              "    <tr>\n",
              "      <th>4331</th>\n",
              "      <td>Male</td>\n",
              "      <td>0</td>\n",
              "      <td>Yes</td>\n",
              "      <td>Yes</td>\n",
              "      <td>0</td>\n",
              "      <td>Yes</td>\n",
              "      <td>No</td>\n",
              "      <td>No</td>\n",
              "      <td>No internet service</td>\n",
              "      <td>No internet service</td>\n",
              "      <td>...</td>\n",
              "      <td>No internet service</td>\n",
              "      <td>No internet service</td>\n",
              "      <td>No internet service</td>\n",
              "      <td>Two year</td>\n",
              "      <td>No</td>\n",
              "      <td>Mailed check</td>\n",
              "      <td>19.85</td>\n",
              "      <td>NaN</td>\n",
              "      <td>No</td>\n",
              "      <td>0.0</td>\n",
              "    </tr>\n",
              "    <tr>\n",
              "      <th>4687</th>\n",
              "      <td>Male</td>\n",
              "      <td>0</td>\n",
              "      <td>Yes</td>\n",
              "      <td>Yes</td>\n",
              "      <td>0</td>\n",
              "      <td>Yes</td>\n",
              "      <td>Yes</td>\n",
              "      <td>No</td>\n",
              "      <td>No internet service</td>\n",
              "      <td>No internet service</td>\n",
              "      <td>...</td>\n",
              "      <td>No internet service</td>\n",
              "      <td>No internet service</td>\n",
              "      <td>No internet service</td>\n",
              "      <td>Two year</td>\n",
              "      <td>No</td>\n",
              "      <td>Mailed check</td>\n",
              "      <td>25.35</td>\n",
              "      <td>NaN</td>\n",
              "      <td>No</td>\n",
              "      <td>0.0</td>\n",
              "    </tr>\n",
              "    <tr>\n",
              "      <th>5104</th>\n",
              "      <td>Female</td>\n",
              "      <td>0</td>\n",
              "      <td>Yes</td>\n",
              "      <td>Yes</td>\n",
              "      <td>0</td>\n",
              "      <td>Yes</td>\n",
              "      <td>No</td>\n",
              "      <td>No</td>\n",
              "      <td>No internet service</td>\n",
              "      <td>No internet service</td>\n",
              "      <td>...</td>\n",
              "      <td>No internet service</td>\n",
              "      <td>No internet service</td>\n",
              "      <td>No internet service</td>\n",
              "      <td>Two year</td>\n",
              "      <td>No</td>\n",
              "      <td>Mailed check</td>\n",
              "      <td>20.00</td>\n",
              "      <td>NaN</td>\n",
              "      <td>No</td>\n",
              "      <td>0.0</td>\n",
              "    </tr>\n",
              "    <tr>\n",
              "      <th>5719</th>\n",
              "      <td>Male</td>\n",
              "      <td>0</td>\n",
              "      <td>Yes</td>\n",
              "      <td>Yes</td>\n",
              "      <td>0</td>\n",
              "      <td>Yes</td>\n",
              "      <td>No</td>\n",
              "      <td>No</td>\n",
              "      <td>No internet service</td>\n",
              "      <td>No internet service</td>\n",
              "      <td>...</td>\n",
              "      <td>No internet service</td>\n",
              "      <td>No internet service</td>\n",
              "      <td>No internet service</td>\n",
              "      <td>One year</td>\n",
              "      <td>Yes</td>\n",
              "      <td>Mailed check</td>\n",
              "      <td>19.70</td>\n",
              "      <td>NaN</td>\n",
              "      <td>No</td>\n",
              "      <td>0.0</td>\n",
              "    </tr>\n",
              "    <tr>\n",
              "      <th>6772</th>\n",
              "      <td>Female</td>\n",
              "      <td>0</td>\n",
              "      <td>Yes</td>\n",
              "      <td>Yes</td>\n",
              "      <td>0</td>\n",
              "      <td>Yes</td>\n",
              "      <td>Yes</td>\n",
              "      <td>DSL</td>\n",
              "      <td>No</td>\n",
              "      <td>Yes</td>\n",
              "      <td>...</td>\n",
              "      <td>Yes</td>\n",
              "      <td>Yes</td>\n",
              "      <td>No</td>\n",
              "      <td>Two year</td>\n",
              "      <td>No</td>\n",
              "      <td>Mailed check</td>\n",
              "      <td>73.35</td>\n",
              "      <td>NaN</td>\n",
              "      <td>No</td>\n",
              "      <td>0.0</td>\n",
              "    </tr>\n",
              "    <tr>\n",
              "      <th>6840</th>\n",
              "      <td>Male</td>\n",
              "      <td>0</td>\n",
              "      <td>No</td>\n",
              "      <td>Yes</td>\n",
              "      <td>0</td>\n",
              "      <td>Yes</td>\n",
              "      <td>Yes</td>\n",
              "      <td>DSL</td>\n",
              "      <td>Yes</td>\n",
              "      <td>Yes</td>\n",
              "      <td>...</td>\n",
              "      <td>Yes</td>\n",
              "      <td>No</td>\n",
              "      <td>No</td>\n",
              "      <td>Two year</td>\n",
              "      <td>Yes</td>\n",
              "      <td>Bank transfer (automatic)</td>\n",
              "      <td>61.90</td>\n",
              "      <td>NaN</td>\n",
              "      <td>No</td>\n",
              "      <td>0.0</td>\n",
              "    </tr>\n",
              "    <tr>\n",
              "      <th>7531</th>\n",
              "      <td>Female</td>\n",
              "      <td>0</td>\n",
              "      <td>Yes</td>\n",
              "      <td>Yes</td>\n",
              "      <td>0</td>\n",
              "      <td>No</td>\n",
              "      <td>No phone service</td>\n",
              "      <td>DSL</td>\n",
              "      <td>Yes</td>\n",
              "      <td>No</td>\n",
              "      <td>...</td>\n",
              "      <td>Yes</td>\n",
              "      <td>Yes</td>\n",
              "      <td>No</td>\n",
              "      <td>Two year</td>\n",
              "      <td>Yes</td>\n",
              "      <td>Bank transfer (automatic)</td>\n",
              "      <td>52.55</td>\n",
              "      <td>NaN</td>\n",
              "      <td>No</td>\n",
              "      <td>NaN</td>\n",
              "    </tr>\n",
              "    <tr>\n",
              "      <th>7796</th>\n",
              "      <td>Male</td>\n",
              "      <td>0</td>\n",
              "      <td>No</td>\n",
              "      <td>Yes</td>\n",
              "      <td>0</td>\n",
              "      <td>Yes</td>\n",
              "      <td>No</td>\n",
              "      <td>No</td>\n",
              "      <td>No internet service</td>\n",
              "      <td>No internet service</td>\n",
              "      <td>...</td>\n",
              "      <td>No internet service</td>\n",
              "      <td>No internet service</td>\n",
              "      <td>No internet service</td>\n",
              "      <td>Two year</td>\n",
              "      <td>No</td>\n",
              "      <td>Mailed check</td>\n",
              "      <td>20.25</td>\n",
              "      <td>NaN</td>\n",
              "      <td>No</td>\n",
              "      <td>NaN</td>\n",
              "    </tr>\n",
              "    <tr>\n",
              "      <th>7979</th>\n",
              "      <td>Female</td>\n",
              "      <td>0</td>\n",
              "      <td>Yes</td>\n",
              "      <td>Yes</td>\n",
              "      <td>0</td>\n",
              "      <td>Yes</td>\n",
              "      <td>No</td>\n",
              "      <td>DSL</td>\n",
              "      <td>Yes</td>\n",
              "      <td>Yes</td>\n",
              "      <td>...</td>\n",
              "      <td>No</td>\n",
              "      <td>Yes</td>\n",
              "      <td>Yes</td>\n",
              "      <td>Two year</td>\n",
              "      <td>No</td>\n",
              "      <td>Mailed check</td>\n",
              "      <td>80.85</td>\n",
              "      <td>NaN</td>\n",
              "      <td>No</td>\n",
              "      <td>NaN</td>\n",
              "    </tr>\n",
              "    <tr>\n",
              "      <th>8125</th>\n",
              "      <td>Male</td>\n",
              "      <td>0</td>\n",
              "      <td>Yes</td>\n",
              "      <td>Yes</td>\n",
              "      <td>0</td>\n",
              "      <td>Yes</td>\n",
              "      <td>Yes</td>\n",
              "      <td>No</td>\n",
              "      <td>No internet service</td>\n",
              "      <td>No internet service</td>\n",
              "      <td>...</td>\n",
              "      <td>No internet service</td>\n",
              "      <td>No internet service</td>\n",
              "      <td>No internet service</td>\n",
              "      <td>Two year</td>\n",
              "      <td>No</td>\n",
              "      <td>Mailed check</td>\n",
              "      <td>25.75</td>\n",
              "      <td>NaN</td>\n",
              "      <td>No</td>\n",
              "      <td>NaN</td>\n",
              "    </tr>\n",
              "    <tr>\n",
              "      <th>8383</th>\n",
              "      <td>Female</td>\n",
              "      <td>0</td>\n",
              "      <td>Yes</td>\n",
              "      <td>Yes</td>\n",
              "      <td>0</td>\n",
              "      <td>No</td>\n",
              "      <td>No phone service</td>\n",
              "      <td>DSL</td>\n",
              "      <td>Yes</td>\n",
              "      <td>Yes</td>\n",
              "      <td>...</td>\n",
              "      <td>Yes</td>\n",
              "      <td>Yes</td>\n",
              "      <td>No</td>\n",
              "      <td>Two year</td>\n",
              "      <td>No</td>\n",
              "      <td>Credit card (automatic)</td>\n",
              "      <td>56.05</td>\n",
              "      <td>NaN</td>\n",
              "      <td>No</td>\n",
              "      <td>NaN</td>\n",
              "    </tr>\n",
              "    <tr>\n",
              "      <th>10374</th>\n",
              "      <td>Male</td>\n",
              "      <td>0</td>\n",
              "      <td>Yes</td>\n",
              "      <td>Yes</td>\n",
              "      <td>0</td>\n",
              "      <td>Yes</td>\n",
              "      <td>No</td>\n",
              "      <td>No</td>\n",
              "      <td>No internet service</td>\n",
              "      <td>No internet service</td>\n",
              "      <td>...</td>\n",
              "      <td>No internet service</td>\n",
              "      <td>No internet service</td>\n",
              "      <td>No internet service</td>\n",
              "      <td>Two year</td>\n",
              "      <td>No</td>\n",
              "      <td>Mailed check</td>\n",
              "      <td>19.85</td>\n",
              "      <td>NaN</td>\n",
              "      <td>No</td>\n",
              "      <td>NaN</td>\n",
              "    </tr>\n",
              "    <tr>\n",
              "      <th>10869</th>\n",
              "      <td>Male</td>\n",
              "      <td>0</td>\n",
              "      <td>Yes</td>\n",
              "      <td>Yes</td>\n",
              "      <td>0</td>\n",
              "      <td>Yes</td>\n",
              "      <td>Yes</td>\n",
              "      <td>No</td>\n",
              "      <td>No internet service</td>\n",
              "      <td>No internet service</td>\n",
              "      <td>...</td>\n",
              "      <td>No internet service</td>\n",
              "      <td>No internet service</td>\n",
              "      <td>No internet service</td>\n",
              "      <td>Two year</td>\n",
              "      <td>No</td>\n",
              "      <td>Mailed check</td>\n",
              "      <td>25.35</td>\n",
              "      <td>NaN</td>\n",
              "      <td>No</td>\n",
              "      <td>NaN</td>\n",
              "    </tr>\n",
              "    <tr>\n",
              "      <th>11423</th>\n",
              "      <td>Female</td>\n",
              "      <td>0</td>\n",
              "      <td>Yes</td>\n",
              "      <td>Yes</td>\n",
              "      <td>0</td>\n",
              "      <td>Yes</td>\n",
              "      <td>No</td>\n",
              "      <td>No</td>\n",
              "      <td>No internet service</td>\n",
              "      <td>No internet service</td>\n",
              "      <td>...</td>\n",
              "      <td>No internet service</td>\n",
              "      <td>No internet service</td>\n",
              "      <td>No internet service</td>\n",
              "      <td>Two year</td>\n",
              "      <td>No</td>\n",
              "      <td>Mailed check</td>\n",
              "      <td>20.00</td>\n",
              "      <td>NaN</td>\n",
              "      <td>No</td>\n",
              "      <td>NaN</td>\n",
              "    </tr>\n",
              "    <tr>\n",
              "      <th>12261</th>\n",
              "      <td>Male</td>\n",
              "      <td>0</td>\n",
              "      <td>Yes</td>\n",
              "      <td>Yes</td>\n",
              "      <td>0</td>\n",
              "      <td>Yes</td>\n",
              "      <td>No</td>\n",
              "      <td>No</td>\n",
              "      <td>No internet service</td>\n",
              "      <td>No internet service</td>\n",
              "      <td>...</td>\n",
              "      <td>No internet service</td>\n",
              "      <td>No internet service</td>\n",
              "      <td>No internet service</td>\n",
              "      <td>One year</td>\n",
              "      <td>Yes</td>\n",
              "      <td>Mailed check</td>\n",
              "      <td>19.70</td>\n",
              "      <td>NaN</td>\n",
              "      <td>No</td>\n",
              "      <td>NaN</td>\n",
              "    </tr>\n",
              "    <tr>\n",
              "      <th>13713</th>\n",
              "      <td>Female</td>\n",
              "      <td>0</td>\n",
              "      <td>Yes</td>\n",
              "      <td>Yes</td>\n",
              "      <td>0</td>\n",
              "      <td>Yes</td>\n",
              "      <td>Yes</td>\n",
              "      <td>DSL</td>\n",
              "      <td>No</td>\n",
              "      <td>Yes</td>\n",
              "      <td>...</td>\n",
              "      <td>Yes</td>\n",
              "      <td>Yes</td>\n",
              "      <td>No</td>\n",
              "      <td>Two year</td>\n",
              "      <td>No</td>\n",
              "      <td>Mailed check</td>\n",
              "      <td>73.35</td>\n",
              "      <td>NaN</td>\n",
              "      <td>No</td>\n",
              "      <td>NaN</td>\n",
              "    </tr>\n",
              "    <tr>\n",
              "      <th>13797</th>\n",
              "      <td>Male</td>\n",
              "      <td>0</td>\n",
              "      <td>No</td>\n",
              "      <td>Yes</td>\n",
              "      <td>0</td>\n",
              "      <td>Yes</td>\n",
              "      <td>Yes</td>\n",
              "      <td>DSL</td>\n",
              "      <td>Yes</td>\n",
              "      <td>Yes</td>\n",
              "      <td>...</td>\n",
              "      <td>Yes</td>\n",
              "      <td>No</td>\n",
              "      <td>No</td>\n",
              "      <td>Two year</td>\n",
              "      <td>Yes</td>\n",
              "      <td>Bank transfer (automatic)</td>\n",
              "      <td>61.90</td>\n",
              "      <td>NaN</td>\n",
              "      <td>No</td>\n",
              "      <td>NaN</td>\n",
              "    </tr>\n",
              "  </tbody>\n",
              "</table>\n",
              "<p>22 rows × 21 columns</p>\n",
              "</div>"
            ],
            "text/plain": [
              "       Gender  Senior Citizen Partner Dependents  Tenure Months Phone Service  \\\n",
              "2234   Female               0     Yes         No              0            No   \n",
              "2438     Male               0      No         No              0           Yes   \n",
              "2568   Female               0     Yes         No              0           Yes   \n",
              "2667     Male               0     Yes        Yes              0           Yes   \n",
              "2856   Female               0     Yes         No              0            No   \n",
              "4331     Male               0     Yes        Yes              0           Yes   \n",
              "4687     Male               0     Yes        Yes              0           Yes   \n",
              "5104   Female               0     Yes        Yes              0           Yes   \n",
              "5719     Male               0     Yes        Yes              0           Yes   \n",
              "6772   Female               0     Yes        Yes              0           Yes   \n",
              "6840     Male               0      No        Yes              0           Yes   \n",
              "7531   Female               0     Yes        Yes              0            No   \n",
              "7796     Male               0      No        Yes              0           Yes   \n",
              "7979   Female               0     Yes        Yes              0           Yes   \n",
              "8125     Male               0     Yes        Yes              0           Yes   \n",
              "8383   Female               0     Yes        Yes              0            No   \n",
              "10374    Male               0     Yes        Yes              0           Yes   \n",
              "10869    Male               0     Yes        Yes              0           Yes   \n",
              "11423  Female               0     Yes        Yes              0           Yes   \n",
              "12261    Male               0     Yes        Yes              0           Yes   \n",
              "13713  Female               0     Yes        Yes              0           Yes   \n",
              "13797    Male               0      No        Yes              0           Yes   \n",
              "\n",
              "         Multiple Lines Internet Service      Online Security  \\\n",
              "2234   No phone service              DSL                  Yes   \n",
              "2438                 No               No  No internet service   \n",
              "2568                 No              DSL                  Yes   \n",
              "2667                Yes               No  No internet service   \n",
              "2856   No phone service              DSL                  Yes   \n",
              "4331                 No               No  No internet service   \n",
              "4687                Yes               No  No internet service   \n",
              "5104                 No               No  No internet service   \n",
              "5719                 No               No  No internet service   \n",
              "6772                Yes              DSL                   No   \n",
              "6840                Yes              DSL                  Yes   \n",
              "7531   No phone service              DSL                  Yes   \n",
              "7796                 No               No  No internet service   \n",
              "7979                 No              DSL                  Yes   \n",
              "8125                Yes               No  No internet service   \n",
              "8383   No phone service              DSL                  Yes   \n",
              "10374                No               No  No internet service   \n",
              "10869               Yes               No  No internet service   \n",
              "11423                No               No  No internet service   \n",
              "12261                No               No  No internet service   \n",
              "13713               Yes              DSL                   No   \n",
              "13797               Yes              DSL                  Yes   \n",
              "\n",
              "             Online Backup  ...         Tech Support         Streaming TV  \\\n",
              "2234                    No  ...                  Yes                  Yes   \n",
              "2438   No internet service  ...  No internet service  No internet service   \n",
              "2568                   Yes  ...                   No                  Yes   \n",
              "2667   No internet service  ...  No internet service  No internet service   \n",
              "2856                   Yes  ...                  Yes                  Yes   \n",
              "4331   No internet service  ...  No internet service  No internet service   \n",
              "4687   No internet service  ...  No internet service  No internet service   \n",
              "5104   No internet service  ...  No internet service  No internet service   \n",
              "5719   No internet service  ...  No internet service  No internet service   \n",
              "6772                   Yes  ...                  Yes                  Yes   \n",
              "6840                   Yes  ...                  Yes                   No   \n",
              "7531                    No  ...                  Yes                  Yes   \n",
              "7796   No internet service  ...  No internet service  No internet service   \n",
              "7979                   Yes  ...                   No                  Yes   \n",
              "8125   No internet service  ...  No internet service  No internet service   \n",
              "8383                   Yes  ...                  Yes                  Yes   \n",
              "10374  No internet service  ...  No internet service  No internet service   \n",
              "10869  No internet service  ...  No internet service  No internet service   \n",
              "11423  No internet service  ...  No internet service  No internet service   \n",
              "12261  No internet service  ...  No internet service  No internet service   \n",
              "13713                  Yes  ...                  Yes                  Yes   \n",
              "13797                  Yes  ...                  Yes                   No   \n",
              "\n",
              "          Streaming Movies  Contract Paperless Billing  \\\n",
              "2234                    No  Two year               Yes   \n",
              "2438   No internet service  Two year                No   \n",
              "2568                   Yes  Two year                No   \n",
              "2667   No internet service  Two year                No   \n",
              "2856                    No  Two year                No   \n",
              "4331   No internet service  Two year                No   \n",
              "4687   No internet service  Two year                No   \n",
              "5104   No internet service  Two year                No   \n",
              "5719   No internet service  One year               Yes   \n",
              "6772                    No  Two year                No   \n",
              "6840                    No  Two year               Yes   \n",
              "7531                    No  Two year               Yes   \n",
              "7796   No internet service  Two year                No   \n",
              "7979                   Yes  Two year                No   \n",
              "8125   No internet service  Two year                No   \n",
              "8383                    No  Two year                No   \n",
              "10374  No internet service  Two year                No   \n",
              "10869  No internet service  Two year                No   \n",
              "11423  No internet service  Two year                No   \n",
              "12261  No internet service  One year               Yes   \n",
              "13713                   No  Two year                No   \n",
              "13797                   No  Two year               Yes   \n",
              "\n",
              "                  Payment Method Monthly Charges  Total Charges  Churn Label  \\\n",
              "2234   Bank transfer (automatic)           52.55            NaN           No   \n",
              "2438                Mailed check           20.25            NaN           No   \n",
              "2568                Mailed check           80.85            NaN           No   \n",
              "2667                Mailed check           25.75            NaN           No   \n",
              "2856     Credit card (automatic)           56.05            NaN           No   \n",
              "4331                Mailed check           19.85            NaN           No   \n",
              "4687                Mailed check           25.35            NaN           No   \n",
              "5104                Mailed check           20.00            NaN           No   \n",
              "5719                Mailed check           19.70            NaN           No   \n",
              "6772                Mailed check           73.35            NaN           No   \n",
              "6840   Bank transfer (automatic)           61.90            NaN           No   \n",
              "7531   Bank transfer (automatic)           52.55            NaN           No   \n",
              "7796                Mailed check           20.25            NaN           No   \n",
              "7979                Mailed check           80.85            NaN           No   \n",
              "8125                Mailed check           25.75            NaN           No   \n",
              "8383     Credit card (automatic)           56.05            NaN           No   \n",
              "10374               Mailed check           19.85            NaN           No   \n",
              "10869               Mailed check           25.35            NaN           No   \n",
              "11423               Mailed check           20.00            NaN           No   \n",
              "12261               Mailed check           19.70            NaN           No   \n",
              "13713               Mailed check           73.35            NaN           No   \n",
              "13797  Bank transfer (automatic)           61.90            NaN           No   \n",
              "\n",
              "      Churn Value  \n",
              "2234          0.0  \n",
              "2438          0.0  \n",
              "2568          0.0  \n",
              "2667          0.0  \n",
              "2856          0.0  \n",
              "4331          0.0  \n",
              "4687          0.0  \n",
              "5104          0.0  \n",
              "5719          0.0  \n",
              "6772          0.0  \n",
              "6840          0.0  \n",
              "7531          NaN  \n",
              "7796          NaN  \n",
              "7979          NaN  \n",
              "8125          NaN  \n",
              "8383          NaN  \n",
              "10374         NaN  \n",
              "10869         NaN  \n",
              "11423         NaN  \n",
              "12261         NaN  \n",
              "13713         NaN  \n",
              "13797         NaN  \n",
              "\n",
              "[22 rows x 21 columns]"
            ]
          },
          "execution_count": 72,
          "metadata": {},
          "output_type": "execute_result"
        }
      ],
      "source": [
        "# transform the column TotalCharges into a numeric data type\n",
        "\n",
        "df_telco['Total Charges'] = pd.to_numeric(df_telco['Total Charges'], errors='coerce')\n",
        "\n",
        "# null observations of the TotalCharges column\n",
        "\n",
        "df_telco[df_telco['Total Charges'].isnull()]"
      ]
    },
    {
      "cell_type": "code",
      "execution_count": 73,
      "metadata": {
        "id": "TOvBaCtPRfX2"
      },
      "outputs": [],
      "source": [
        "# replace white space from column names first\n",
        "\n",
        "df_telco.columns = df_telco.columns.str.strip().str.replace(' ', '_')"
      ]
    },
    {
      "cell_type": "code",
      "execution_count": 74,
      "metadata": {
        "colab": {
          "base_uri": "https://localhost:8080/"
        },
        "id": "XYBAPVBSRmib",
        "outputId": "2b8c714d-66e2-4cd7-cac8-4c38d638aa9e"
      },
      "outputs": [
        {
          "name": "stdout",
          "output_type": "stream",
          "text": [
            "<class 'pandas.core.frame.DataFrame'>\n",
            "RangeIndex: 14086 entries, 0 to 14085\n",
            "Data columns (total 21 columns):\n",
            " #   Column             Non-Null Count  Dtype  \n",
            "---  ------             --------------  -----  \n",
            " 0   Gender             14086 non-null  object \n",
            " 1   Senior_Citizen     14086 non-null  int64  \n",
            " 2   Partner            14086 non-null  object \n",
            " 3   Dependents         14086 non-null  object \n",
            " 4   Tenure_Months      14086 non-null  int64  \n",
            " 5   Phone_Service      14086 non-null  object \n",
            " 6   Multiple_Lines     14086 non-null  object \n",
            " 7   Internet_Service   14086 non-null  object \n",
            " 8   Online_Security    14086 non-null  object \n",
            " 9   Online_Backup      14086 non-null  object \n",
            " 10  Device_Protection  14086 non-null  object \n",
            " 11  Tech_Support       14086 non-null  object \n",
            " 12  Streaming_TV       14086 non-null  object \n",
            " 13  Streaming_Movies   14086 non-null  object \n",
            " 14  Contract           14086 non-null  object \n",
            " 15  Paperless_Billing  14086 non-null  object \n",
            " 16  Payment_Method     14086 non-null  object \n",
            " 17  Monthly_Charges    14086 non-null  float64\n",
            " 18  Total_Charges      14064 non-null  float64\n",
            " 19  Churn_Label        14086 non-null  object \n",
            " 20  Churn_Value        7043 non-null   float64\n",
            "dtypes: float64(3), int64(2), object(16)\n",
            "memory usage: 2.3+ MB\n"
          ]
        }
      ],
      "source": [
        "# summary of data after removing white space from column names\n",
        "\n",
        "df_telco.info()"
      ]
    },
    {
      "cell_type": "markdown",
      "metadata": {
        "id": "NSg2PMGGQ6Og"
      },
      "source": [
        "As we can take a look at the dataset further, some values for payment method attribute contain further categorization in parenthesis. These values are too long to be used as labels in further visualizations and removing it will not affect our analysis hence we remove this clarification in parenthesis from the entries of the Payment Method column."
      ]
    },
    {
      "cell_type": "code",
      "execution_count": 75,
      "metadata": {
        "id": "uLdGhM0pS6EB"
      },
      "outputs": [],
      "source": [
        "# unique elements of the PaymentMethod column\n",
        "\n",
        "df_telco.Payment_Method.unique()\n",
        "\n",
        "# remove (automatic) from payment method names\n",
        "\n",
        "df_telco['Payment_Method'] = df_telco['Payment_Method'].str.replace(' (automatic)', '', regex=False)"
      ]
    },
    {
      "cell_type": "code",
      "execution_count": 76,
      "metadata": {
        "colab": {
          "base_uri": "https://localhost:8080/"
        },
        "id": "G9mTCGVJS_Z1",
        "outputId": "db5812d6-820a-46ea-d4b0-2b67b09d922e"
      },
      "outputs": [
        {
          "data": {
            "text/plain": [
              "array(['Mailed check', 'Electronic check', 'Bank transfer', 'Credit card'],\n",
              "      dtype=object)"
            ]
          },
          "execution_count": 76,
          "metadata": {},
          "output_type": "execute_result"
        }
      ],
      "source": [
        "# unique elements of the PaymentMethod column after the modification \n",
        "\n",
        "df_telco.Payment_Method.unique()"
      ]
    },
    {
      "cell_type": "markdown",
      "metadata": {
        "id": "jQjvT_6wl6Xw"
      },
      "source": [
        "Now to replace all the NA values and fix data types of wrongly assigned variables."
      ]
    },
    {
      "cell_type": "code",
      "execution_count": 77,
      "metadata": {
        "id": "4CVdXHtRilgt"
      },
      "outputs": [],
      "source": [
        "import numpy as np\n",
        "\n",
        "# remove null and Nan values from data\n",
        "\n",
        "df_telco.replace([np.inf, -np.inf], inplace=True)\n",
        "df_telco.replace([np.nan, 0], inplace=True)\n",
        "df_telco.fillna(999, inplace=True)\n",
        "\n",
        "df_telco['Total_Charges'].replace(' ', 0, inplace=True)"
      ]
    },
    {
      "cell_type": "code",
      "execution_count": 78,
      "metadata": {
        "id": "K99cn6Yqmqag"
      },
      "outputs": [],
      "source": [
        "# change Monthly Charges and Total Charges data type to float for model\n",
        "\n",
        "df_telco = df_telco.astype({'Monthly_Charges':'float','Total_Charges':'float'})"
      ]
    },
    {
      "cell_type": "markdown",
      "metadata": {
        "id": "FUNOtyZrmlla"
      },
      "source": [
        "Checking for the correlation between Monthly and Total Charges"
      ]
    },
    {
      "cell_type": "code",
      "execution_count": 79,
      "metadata": {
        "colab": {
          "base_uri": "https://localhost:8080/",
          "height": 297
        },
        "id": "yhszxMmtmZq2",
        "outputId": "27509d3f-0239-4af9-aee0-f23d97320f7b"
      },
      "outputs": [
        {
          "data": {
            "text/plain": [
              "<AxesSubplot: xlabel='Monthly_Charges', ylabel='Total_Charges'>"
            ]
          },
          "execution_count": 79,
          "metadata": {},
          "output_type": "execute_result"
        },
        {
          "data": {
            "image/png": "[encoded data removed]",
            "text/plain": [
              "<Figure size 640x480 with 1 Axes>"
            ]
          },
          "metadata": {},
          "output_type": "display_data"
        }
      ],
      "source": [
        "df_telco[['Monthly_Charges', 'Total_Charges']].corr()\n",
        "df_telco[['Monthly_Charges', 'Total_Charges']].plot.scatter(x = 'Monthly_Charges', y='Total_Charges', color = '#9A7197')"
      ]
    },
    {
      "cell_type": "markdown",
      "metadata": {
        "id": "GUrCiA8mit6t"
      },
      "source": [
        "We can see that there is a high correlation between monthly charges and total charges. We can do PCA in these two columns. PCA is very useful to speed up the computation by reducing the dimensionality of the data. Plus, when you have high dimensionality with high correlated variable of one another, the PCA can improve the accuracy of classification model."
      ]
    },
    {
      "cell_type": "markdown",
      "metadata": {
        "id": "8fOO-FaeTDup"
      },
      "source": [
        "### Data Visualization\n",
        "\n"
      ]
    },
    {
      "cell_type": "markdown",
      "metadata": {
        "id": "P6zkuG78TJaI"
      },
      "source": [
        "Response Variable:\n",
        "\n",
        "The following pie chart shows the percentage of observations that correspond to each class of the response variable: no and yes. As shown below, this is an imbalanced data set because both classes are not equally distributed among all observations, being no the majority class (73.5%). When modeling, this imbalance will lead to a large number of false negatives, as we will see later."
      ]
    },
    {
      "cell_type": "code",
      "execution_count": 80,
      "metadata": {
        "colab": {
          "base_uri": "https://localhost:8080/",
          "height": 319
        },
        "id": "t8TS4VP9TPIF",
        "outputId": "0217c3bc-0ff4-4c68-b639-fb4af7cc9c48"
      },
      "outputs": [
        {
          "data": {
            "image/png": "[encoded data removed]",
            "text/plain": [
              "<Figure size 1000x500 with 1 Axes>"
            ]
          },
          "metadata": {},
          "output_type": "display_data"
        }
      ],
      "source": [
        "# chart to show proportions of response variable\n",
        "\n",
        "from matplotlib import pyplot as plt\n",
        "import seaborn as sns\n",
        "\n",
        "colors = ['#9A7197','#9D96B8']\n",
        "\n",
        "# proportion of observation of each class\n",
        "\n",
        "plt.figure(figsize=(10,5))\n",
        "plt.title('What % of the database has churned?', fontsize = 12)\n",
        "plt.pie(df_telco['Churn_Label'].value_counts(sort = False),labels = list(df_telco['Churn_Label'].unique()), colors = colors, autopct='%.1f%%')\n",
        "plt.show()"
      ]
    },
    {
      "cell_type": "markdown",
      "metadata": {
        "id": "wwiwPZrKjd0y"
      },
      "source": [
        "Demographic Information:\n",
        "\n",
        "The following code creates a stacked percentage bar chart for each demographic attribute (gender, Senior Citizen, Partner, Dependents), showing the percentage of Churn for each category of the attribute."
      ]
    },
    {
      "cell_type": "code",
      "execution_count": 81,
      "metadata": {
        "colab": {
          "base_uri": "https://localhost:8080/",
          "height": 775
        },
        "id": "KAOKHz51jcqJ",
        "outputId": "0be3bf93-3138-4816-bc11-1793b83e9c46"
      },
      "outputs": [
        {
          "data": {
            "image/png": "[encoded data removed]",
            "text/plain": [
              "<Figure size 1300x1200 with 4 Axes>"
            ]
          },
          "metadata": {},
          "output_type": "display_data"
        }
      ],
      "source": [
        "# chart to show proportions of observations by demographic information\n",
        "\n",
        "import math\n",
        "\n",
        "def percentage_stacked_plot(columns_to_plot, super_title):\n",
        "     \n",
        "    number_of_columns = 2\n",
        "    number_of_rows = math.ceil(len(columns_to_plot)/2)\n",
        "\n",
        "    # create a figure\n",
        "\n",
        "    fig = plt.figure(figsize=(13, 6 * number_of_rows)) \n",
        "    fig.suptitle(super_title, fontsize=22,  y=.95)\n",
        " \n",
        "\n",
        "    # loop to each column name to create a subplot\n",
        "\n",
        "    for index, column in enumerate(columns_to_plot, 1):\n",
        "\n",
        "        # create the subplot\n",
        "\n",
        "        ax = fig.add_subplot(number_of_rows, number_of_columns, index)\n",
        "\n",
        "        # calculate the percentage of observations of the response variable for each group of the independent variable\n",
        "        # 100% stacked bar plot\n",
        "\n",
        "        prop_by_independent = pd.crosstab(df_telco[column], df_telco['Churn_Label']).apply(lambda x: x/x.sum()*100, axis=1)\n",
        "\n",
        "        prop_by_independent.plot(kind='bar', ax=ax, stacked=True, rot=0, color=['#9D96B8','#9A7197'])\n",
        "\n",
        "        # set the legend in the upper right corner\n",
        "\n",
        "        ax.legend(loc = \"upper right\", bbox_to_anchor=(0.62, 0.5, 0.5, 0.5), title = 'Churn', fancybox = True)\n",
        "\n",
        "        # set title and labels\n",
        "\n",
        "        ax.set_title('Proportion of observations by ' + column, fontsize = 12)\n",
        "\n",
        "        ax.tick_params(rotation = 'auto')\n",
        "\n",
        "\n",
        "# demographic column names\n",
        "\n",
        "demographic_columns = ['Gender', 'Senior_Citizen', 'Partner', 'Dependents']\n",
        "\n",
        "# stacked plot of demographic columns\n",
        "\n",
        "percentage_stacked_plot(demographic_columns, 'Churn Demographics')"
      ]
    },
    {
      "cell_type": "markdown",
      "metadata": {
        "id": "X0MJYc_JkaFx"
      },
      "source": [
        "As shown above, each bar is a category of the independent variable, and it is subdivided to show the proportion of each response class (No and Yes).\n",
        "\n",
        "We can extract the following conclusions by analyzing demographic attributes:\n",
        "\n",
        "\n",
        "\n",
        "*   The churn rate of senior citizens is almost double that of young citizens.\n",
        "*   We do not expect gender to have significant predictive power. A similar percentage of churn is shown both when a customer is a man or a woman.\n",
        "*   Customers with a partner churn less than customers with no partner.\n"
      ]
    },
    {
      "cell_type": "markdown",
      "metadata": {
        "id": "ddv7uQPokzdz"
      },
      "source": [
        "Customer Account Information — Categorical variables:\n",
        "\n",
        "As we did with demographic attributes, we evaluate the percentage of Churn for each category of the customer account attributes (Contract, Paperless Billing, Payment Method).\n"
      ]
    },
    {
      "cell_type": "code",
      "execution_count": 82,
      "metadata": {
        "colab": {
          "base_uri": "https://localhost:8080/",
          "height": 776
        },
        "id": "08GefMYTk4WX",
        "outputId": "079fcf3d-c6da-456a-97b8-f4c5fe315a8a"
      },
      "outputs": [
        {
          "data": {
            "image/png": "[encoded data removed]",
            "text/plain": [
              "<Figure size 1300x1200 with 3 Axes>"
            ]
          },
          "metadata": {},
          "output_type": "display_data"
        }
      ],
      "source": [
        "# chart to show proportions of observations by customer account information\n",
        "\n",
        "# customer account column names\n",
        "\n",
        "account_columns = ['Contract', 'Paperless_Billing', 'Payment_Method']\n",
        "\n",
        "# stacked plot of customer account columns\n",
        "\n",
        "percentage_stacked_plot(account_columns, 'Customer Account Information')"
      ]
    },
    {
      "cell_type": "markdown",
      "metadata": {
        "id": "Lv_6D8z5lAaI"
      },
      "source": [
        "We can extract the following conclusions by analyzing customer account attributes:\n",
        "\n",
        "\n",
        "\n",
        "*   Customers with month-to-month contracts have higher churn rates compared to clients with yearly contracts.\n",
        "*   Customers who opted for an electronic check as paying method are more likely to leave the company.\n",
        "*   Customers subscribed to paperless billing churn more than those who are not subscribed.\n"
      ]
    },
    {
      "cell_type": "code",
      "execution_count": 83,
      "metadata": {
        "colab": {
          "base_uri": "https://localhost:8080/",
          "height": 405
        },
        "id": "kt1K469XcihO",
        "outputId": "49a807cd-ec49-4905-f82c-3c720b8f864d"
      },
      "outputs": [
        {
          "data": {
            "image/png": "[encoded data removed]",
            "text/plain": [
              "<Figure size 1000x600 with 1 Axes>"
            ]
          },
          "metadata": {},
          "output_type": "display_data"
        }
      ],
      "source": [
        "# chart to show churn proportions by Contract type\n",
        "\n",
        "import matplotlib.ticker as mtick\n",
        "\n",
        "colors = ['#9D96B8', '#9A7197']\n",
        "contract_churn = df_telco.groupby(['Contract','Churn_Label']).size().unstack()\n",
        "\n",
        "ax = (contract_churn.T*100.0 / contract_churn.T.sum()).T.plot (kind='bar', width = 0.3, stacked = True, rot = 0, figsize = (10,6), color = colors)\n",
        "ax.yaxis.set_major_formatter(mtick.PercentFormatter())\n",
        "ax.legend(loc = 'best', prop = {'size':12}, title = 'Churn')\n",
        "ax.set_ylabel('% Customers', size = 12)\n",
        "ax.set_title('Churn by Contract Type',size = 14)\n",
        "\n",
        "# Code to add the data labels on the stacked bar chart\n",
        "\n",
        "for p in ax.patches:\n",
        "    width, height = p.get_width(), p.get_height()\n",
        "    x, y = p.get_xy() \n",
        "    ax.annotate('{:.0f}%'.format(height), (p.get_x()+.25*width, p.get_y()+.4*height), color = 'black', size = 12)"
      ]
    },
    {
      "cell_type": "markdown",
      "metadata": {
        "id": "NmhS2Ebzmfl4"
      },
      "source": [
        "We can extract the following conclusions by analyzing the histograms above:\n",
        "\n",
        "\n",
        "\n",
        "*   The churn rate tends to be larger when monthly charges are high.\n",
        "*   New customers (low tenure) are more likely to churn.\n",
        "*   Clients with high total charges are less likely to leave the company.\n",
        "\n"
      ]
    },
    {
      "cell_type": "markdown",
      "metadata": {
        "id": "8tL0Y6hxmwwj"
      },
      "source": [
        "Services Information:\n",
        "\n",
        "Lastly, we evaluate the percentage of the target for each category of the services columns with stacked bar plots."
      ]
    },
    {
      "cell_type": "code",
      "execution_count": 84,
      "metadata": {
        "colab": {
          "base_uri": "https://localhost:8080/",
          "height": 1000
        },
        "id": "FQ1dnZ6om0OS",
        "outputId": "5ac08561-b07d-4341-ebf2-b1af2ff3118c"
      },
      "outputs": [
        {
          "data": {
            "image/png": "[encoded data removed]",
            "text/plain": [
              "<Figure size 1300x3000 with 9 Axes>"
            ]
          },
          "metadata": {},
          "output_type": "display_data"
        }
      ],
      "source": [
        "# chart to show proportions of observations by services information\n",
        "\n",
        "# services column names\n",
        "\n",
        "services_columns = ['Phone_Service', 'Multiple_Lines', 'Internet_Service', 'Online_Security',\n",
        "                   'Online_Backup', 'Device_Protection', 'Tech_Support', 'Streaming_TV', 'Streaming_Movies']\n",
        "\n",
        "# stacked plot of services columns\n",
        "\n",
        "percentage_stacked_plot(services_columns, 'Services Information')"
      ]
    },
    {
      "cell_type": "markdown",
      "metadata": {
        "id": "oS70tbrknPw3"
      },
      "source": [
        "We can extract the following conclusions by evaluating services attributes:\n",
        "\n",
        "\n",
        "\n",
        "*   We do not expect phone attributes (PhoneService and MultipleLines) to have significant predictive power. The percentage of churn for all classes in both independent variables is nearly the same.\n",
        "*   Clients with online security churn less than those without it.\n",
        "*   Customers with no tech support tend to churn more often than those with tech support.\n",
        "\n",
        "By looking at the plots above, we can identify the most relevant attributes for detecting churn. We expect these attributes to be discriminative in our future models."
      ]
    },
    {
      "cell_type": "code",
      "execution_count": 85,
      "metadata": {
        "colab": {
          "base_uri": "https://localhost:8080/",
          "height": 439
        },
        "id": "lIgf_8d3ctbG",
        "outputId": "ffa8e7b2-e876-4bb7-f41a-77013b5d635a"
      },
      "outputs": [
        {
          "data": {
            "image/png": "[encoded data removed]",
            "text/plain": [
              "<Figure size 1000x500 with 1 Axes>"
            ]
          },
          "metadata": {},
          "output_type": "display_data"
        }
      ],
      "source": [
        "# chart to show Tenur months distribution\n",
        "\n",
        "plt.figure(figsize = (10,5))\n",
        "plt.title('Tenure (Months) distribution')\n",
        "sns.distplot(df_telco[df_telco['Churn_Label'] == 'Yes']['Tenure_Months'], label = 'Churn', color = '#9A7197')\n",
        "sns.distplot(df_telco[df_telco['Churn_Label'] == 'No']['Tenure_Months'], label = 'Retain', color = '#9D96B8')\n",
        "plt.legend(loc= 'upper right')\n",
        "plt.show()"
      ]
    },
    {
      "cell_type": "markdown",
      "metadata": {
        "id": "Bn1oSKNfc0Ee"
      },
      "source": [
        "From the visualization above, we can see that, the longer a person uses the provider, the probability of churn decreases."
      ]
    },
    {
      "cell_type": "code",
      "execution_count": 86,
      "metadata": {
        "colab": {
          "base_uri": "https://localhost:8080/",
          "height": 439
        },
        "id": "Ub3c7mUbdFKV",
        "outputId": "4201bf0b-8ef4-458d-9bd3-4a9515ea1dfd"
      },
      "outputs": [
        {
          "data": {
            "image/png": "[encoded data removed]",
            "text/plain": [
              "<Figure size 1000x500 with 1 Axes>"
            ]
          },
          "metadata": {},
          "output_type": "display_data"
        }
      ],
      "source": [
        "# chart to show Tenure months distribution split by gender\n",
        "\n",
        "plt.figure(figsize=(10,5))\n",
        "plt.title('Tenure (Months) distribution Split by Gender')\n",
        "sns.distplot(df_telco[(df_telco['Churn_Label'] == 'Yes') & (df_telco['Gender'] == 'Male')]['Tenure_Months'], label='Male', color = '#28587B')\n",
        "sns.distplot(df_telco[(df_telco['Churn_Label'] == 'Yes') & (df_telco['Gender'] == 'Female')]['Tenure_Months'], label='Female', color = '#B6244F')\n",
        "plt.legend()\n",
        "plt.show()"
      ]
    },
    {
      "cell_type": "markdown",
      "metadata": {
        "id": "DbnOfGuFdNon"
      },
      "source": [
        "From the visualization above, most female users whose subscription period is less than 10 months, will be more likely to churn than male. However, the longer the subscription period, male are more likely to churn than female."
      ]
    },
    {
      "cell_type": "code",
      "execution_count": 87,
      "metadata": {
        "colab": {
          "base_uri": "https://localhost:8080/",
          "height": 439
        },
        "id": "soOpRfdadqg7",
        "outputId": "d35226ec-8f78-4a44-ba21-856ef0b0f1c8"
      },
      "outputs": [
        {
          "data": {
            "image/png": "[encoded data removed]",
            "text/plain": [
              "<Figure size 1000x500 with 1 Axes>"
            ]
          },
          "metadata": {},
          "output_type": "display_data"
        }
      ],
      "source": [
        "# chart to show Monthly charge distribution split by gender\n",
        "\n",
        "plt.figure(figsize=(10,5))\n",
        "plt.title('Monthly Charge distribution Split by Gender')\n",
        "sns.distplot(df_telco[(df_telco['Churn_Label'] == 'Yes') & (df_telco['Gender'] == 'Male')]['Monthly_Charges'], label='Male', color = '#28587B')\n",
        "sns.distplot(df_telco[(df_telco['Churn_Label'] == 'Yes') & (df_telco['Gender'] == 'Female')]['Monthly_Charges'], label='Female', color = '#B6244F')\n",
        "plt.legend()\n",
        "plt.show()"
      ]
    },
    {
      "cell_type": "markdown",
      "metadata": {
        "id": "uV2iDUsLi6td"
      },
      "source": [
        "Observations from visualizations above:\n",
        "\n",
        "* Monthly contract and Tenure could potentially be the most important predictor variables to predict churn.\n",
        "* The odds between men and women to churn is almost the same in every level of monthly charges."
      ]
    },
    {
      "cell_type": "code",
      "execution_count": 116,
      "metadata": {
        "colab": {
          "base_uri": "https://localhost:8080/",
          "height": 424
        },
        "id": "XqMQHOO4d0J_",
        "outputId": "2550f29c-81dd-43b4-9f1d-2ba71650ccba"
      },
      "outputs": [
        {
          "data": {
            "image/png": "[encoded data removed]",
            "text/plain": [
              "<Figure size 597.236x500 with 1 Axes>"
            ]
          },
          "metadata": {},
          "output_type": "display_data"
        }
      ],
      "source": [
        "# chart to show Payment method distribution\n",
        "\n",
        "sns.catplot(x='Payment_Method', hue='Churn_Label', kind='count', data=df_telco,palette=sns.color_palette(['#9D96B8', '#9A7197']))\n",
        "plt.xticks(rotation=45)\n",
        "plt.title('Payment Method distribution')\n",
        "plt.show()"
      ]
    },
    {
      "cell_type": "markdown",
      "metadata": {
        "id": "Bex909Kefsj6"
      },
      "source": [
        "From above visualization, we can see that from the customers who are likely to churn are using electronic check payment methods. This visualization does not say a lot about customer's payment method behaviour towards churn but while training the model we can use this feature with the combination of others to check the prediction rate."
      ]
    },
    {
      "cell_type": "markdown",
      "metadata": {
        "id": "3rFnZ0OJflrg"
      },
      "source": [
        "# Feature Engineering:\n",
        "\n"
      ]
    },
    {
      "cell_type": "markdown",
      "metadata": {
        "id": "teXDjqENg4CV"
      },
      "source": [
        "Feature engineering is the process of extracting features from the data and transforming them into a format that is suitable for the machine learning model. In this project, we need to transform both numerical and categorical variables. Most machine learning algorithms require numerical values; therefore, all categorical attributes available in the dataset should be encoded into numerical labels before training the model. In addition, we need to transform numeric columns into a common scale. This will prevent that the columns with large values dominate the learning process. The techniques implemented in this project are described in more detail below."
      ]
    },
    {
      "cell_type": "code",
      "execution_count": 89,
      "metadata": {
        "colab": {
          "base_uri": "https://localhost:8080/",
          "height": 402
        },
        "id": "E8J_Oes7LnNK",
        "outputId": "ac4828dd-9e20-42db-eb81-ec58aa977133"
      },
      "outputs": [
        {
          "data": {
            "text/html": [
              "<div>\n",
              "<style scoped>\n",
              "    .dataframe tbody tr th:only-of-type {\n",
              "        vertical-align: middle;\n",
              "    }\n",
              "\n",
              "    .dataframe tbody tr th {\n",
              "        vertical-align: top;\n",
              "    }\n",
              "\n",
              "    .dataframe thead th {\n",
              "        text-align: right;\n",
              "    }\n",
              "</style>\n",
              "<table border=\"1\" class=\"dataframe\">\n",
              "  <thead>\n",
              "    <tr style=\"text-align: right;\">\n",
              "      <th></th>\n",
              "    </tr>\n",
              "  </thead>\n",
              "  <tbody>\n",
              "    <tr>\n",
              "      <th>0</th>\n",
              "    </tr>\n",
              "    <tr>\n",
              "      <th>1</th>\n",
              "    </tr>\n",
              "    <tr>\n",
              "      <th>2</th>\n",
              "    </tr>\n",
              "    <tr>\n",
              "      <th>3</th>\n",
              "    </tr>\n",
              "    <tr>\n",
              "      <th>4</th>\n",
              "    </tr>\n",
              "    <tr>\n",
              "      <th>...</th>\n",
              "    </tr>\n",
              "    <tr>\n",
              "      <th>14081</th>\n",
              "    </tr>\n",
              "    <tr>\n",
              "      <th>14082</th>\n",
              "    </tr>\n",
              "    <tr>\n",
              "      <th>14083</th>\n",
              "    </tr>\n",
              "    <tr>\n",
              "      <th>14084</th>\n",
              "    </tr>\n",
              "    <tr>\n",
              "      <th>14085</th>\n",
              "    </tr>\n",
              "  </tbody>\n",
              "</table>\n",
              "<p>14086 rows × 0 columns</p>\n",
              "</div>"
            ],
            "text/plain": [
              "Empty DataFrame\n",
              "Columns: []\n",
              "Index: [0, 1, 2, 3, 4, 5, 6, 7, 8, 9, 10, 11, 12, 13, 14, 15, 16, 17, 18, 19, 20, 21, 22, 23, 24, 25, 26, 27, 28, 29, 30, 31, 32, 33, 34, 35, 36, 37, 38, 39, 40, 41, 42, 43, 44, 45, 46, 47, 48, 49, 50, 51, 52, 53, 54, 55, 56, 57, 58, 59, 60, 61, 62, 63, 64, 65, 66, 67, 68, 69, 70, 71, 72, 73, 74, 75, 76, 77, 78, 79, 80, 81, 82, 83, 84, 85, 86, 87, 88, 89, 90, 91, 92, 93, 94, 95, 96, 97, 98, 99, ...]\n",
              "\n",
              "[14086 rows x 0 columns]"
            ]
          },
          "execution_count": 89,
          "metadata": {},
          "output_type": "execute_result"
        }
      ],
      "source": [
        "# check if any columns still have null values\n",
        "\n",
        "df_telco.loc[:, df_telco.isna().any()]\n",
        "\n",
        "# dropping Senior Citizen and Churn Value columns which does not determine model prediction\n",
        "\n",
        "df_telco = df_telco.drop(['Senior_Citizen' ,'Churn_Value'], axis=1)\n",
        "df_telco.loc[:, df_telco.isna().any()]"
      ]
    },
    {
      "cell_type": "code",
      "execution_count": 90,
      "metadata": {
        "id": "kGVc4JFpf-c-"
      },
      "outputs": [],
      "source": [
        "# summary of the data after dropping columns\n",
        "\n",
        "summary_df_telco = report(df_telco)\n",
        "one_hot_cols = summary_df_telco[summary_df_telco['d_type']=='object']['Column']"
      ]
    },
    {
      "cell_type": "code",
      "execution_count": 91,
      "metadata": {
        "colab": {
          "base_uri": "https://localhost:8080/",
          "height": 638
        },
        "id": "0pGXGw1fhChZ",
        "outputId": "f04b6dd8-4d0b-4fa2-cc1b-8818db5c8e8d"
      },
      "outputs": [
        {
          "data": {
            "text/html": [
              "<div>\n",
              "<style scoped>\n",
              "    .dataframe tbody tr th:only-of-type {\n",
              "        vertical-align: middle;\n",
              "    }\n",
              "\n",
              "    .dataframe tbody tr th {\n",
              "        vertical-align: top;\n",
              "    }\n",
              "\n",
              "    .dataframe thead th {\n",
              "        text-align: right;\n",
              "    }\n",
              "</style>\n",
              "<table border=\"1\" class=\"dataframe\">\n",
              "  <thead>\n",
              "    <tr style=\"text-align: right;\">\n",
              "      <th></th>\n",
              "      <th>Column</th>\n",
              "      <th>d_type</th>\n",
              "      <th>unique_sample</th>\n",
              "      <th>n_uniques</th>\n",
              "    </tr>\n",
              "  </thead>\n",
              "  <tbody>\n",
              "    <tr>\n",
              "      <th>0</th>\n",
              "      <td>Gender</td>\n",
              "      <td>object</td>\n",
              "      <td>[Male, Female]</td>\n",
              "      <td>2</td>\n",
              "    </tr>\n",
              "    <tr>\n",
              "      <th>1</th>\n",
              "      <td>Partner</td>\n",
              "      <td>object</td>\n",
              "      <td>[No, Yes]</td>\n",
              "      <td>2</td>\n",
              "    </tr>\n",
              "    <tr>\n",
              "      <th>2</th>\n",
              "      <td>Dependents</td>\n",
              "      <td>object</td>\n",
              "      <td>[No, Yes]</td>\n",
              "      <td>2</td>\n",
              "    </tr>\n",
              "    <tr>\n",
              "      <th>3</th>\n",
              "      <td>Tenure_Months</td>\n",
              "      <td>int64</td>\n",
              "      <td>[2, 8, 28, 49, 10]</td>\n",
              "      <td>72</td>\n",
              "    </tr>\n",
              "    <tr>\n",
              "      <th>4</th>\n",
              "      <td>Phone_Service</td>\n",
              "      <td>object</td>\n",
              "      <td>[Yes, No]</td>\n",
              "      <td>2</td>\n",
              "    </tr>\n",
              "    <tr>\n",
              "      <th>5</th>\n",
              "      <td>Multiple_Lines</td>\n",
              "      <td>object</td>\n",
              "      <td>[No, Yes, No phone service]</td>\n",
              "      <td>3</td>\n",
              "    </tr>\n",
              "    <tr>\n",
              "      <th>6</th>\n",
              "      <td>Internet_Service</td>\n",
              "      <td>object</td>\n",
              "      <td>[DSL, Fiber optic, No]</td>\n",
              "      <td>3</td>\n",
              "    </tr>\n",
              "    <tr>\n",
              "      <th>7</th>\n",
              "      <td>Online_Security</td>\n",
              "      <td>object</td>\n",
              "      <td>[Yes, No, No internet service]</td>\n",
              "      <td>3</td>\n",
              "    </tr>\n",
              "    <tr>\n",
              "      <th>8</th>\n",
              "      <td>Online_Backup</td>\n",
              "      <td>object</td>\n",
              "      <td>[Yes, No, No internet service]</td>\n",
              "      <td>3</td>\n",
              "    </tr>\n",
              "    <tr>\n",
              "      <th>9</th>\n",
              "      <td>Device_Protection</td>\n",
              "      <td>object</td>\n",
              "      <td>[No, Yes, No internet service]</td>\n",
              "      <td>3</td>\n",
              "    </tr>\n",
              "    <tr>\n",
              "      <th>10</th>\n",
              "      <td>Tech_Support</td>\n",
              "      <td>object</td>\n",
              "      <td>[No, Yes, No internet service]</td>\n",
              "      <td>3</td>\n",
              "    </tr>\n",
              "    <tr>\n",
              "      <th>11</th>\n",
              "      <td>Streaming_TV</td>\n",
              "      <td>object</td>\n",
              "      <td>[No, Yes, No internet service]</td>\n",
              "      <td>3</td>\n",
              "    </tr>\n",
              "    <tr>\n",
              "      <th>12</th>\n",
              "      <td>Streaming_Movies</td>\n",
              "      <td>object</td>\n",
              "      <td>[No, Yes, No internet service]</td>\n",
              "      <td>3</td>\n",
              "    </tr>\n",
              "    <tr>\n",
              "      <th>13</th>\n",
              "      <td>Contract</td>\n",
              "      <td>object</td>\n",
              "      <td>[Month-to-month, Two year, One year]</td>\n",
              "      <td>3</td>\n",
              "    </tr>\n",
              "    <tr>\n",
              "      <th>14</th>\n",
              "      <td>Paperless_Billing</td>\n",
              "      <td>object</td>\n",
              "      <td>[Yes, No]</td>\n",
              "      <td>2</td>\n",
              "    </tr>\n",
              "    <tr>\n",
              "      <th>15</th>\n",
              "      <td>Payment_Method</td>\n",
              "      <td>object</td>\n",
              "      <td>[Mailed check, Electronic check, Bank transfer...</td>\n",
              "      <td>4</td>\n",
              "    </tr>\n",
              "    <tr>\n",
              "      <th>16</th>\n",
              "      <td>Monthly_Charges</td>\n",
              "      <td>float64</td>\n",
              "      <td>[53.85, 70.7, 99.65, 104.8, 103.7]</td>\n",
              "      <td>1585</td>\n",
              "    </tr>\n",
              "    <tr>\n",
              "      <th>17</th>\n",
              "      <td>Total_Charges</td>\n",
              "      <td>float64</td>\n",
              "      <td>[108.15, 151.65, 820.5, 3046.05, 5036.3]</td>\n",
              "      <td>6530</td>\n",
              "    </tr>\n",
              "    <tr>\n",
              "      <th>18</th>\n",
              "      <td>Churn_Label</td>\n",
              "      <td>object</td>\n",
              "      <td>[Yes, No]</td>\n",
              "      <td>2</td>\n",
              "    </tr>\n",
              "  </tbody>\n",
              "</table>\n",
              "</div>"
            ],
            "text/plain": [
              "               Column   d_type  \\\n",
              "0              Gender   object   \n",
              "1             Partner   object   \n",
              "2          Dependents   object   \n",
              "3       Tenure_Months    int64   \n",
              "4       Phone_Service   object   \n",
              "5      Multiple_Lines   object   \n",
              "6    Internet_Service   object   \n",
              "7     Online_Security   object   \n",
              "8       Online_Backup   object   \n",
              "9   Device_Protection   object   \n",
              "10       Tech_Support   object   \n",
              "11       Streaming_TV   object   \n",
              "12   Streaming_Movies   object   \n",
              "13           Contract   object   \n",
              "14  Paperless_Billing   object   \n",
              "15     Payment_Method   object   \n",
              "16    Monthly_Charges  float64   \n",
              "17      Total_Charges  float64   \n",
              "18        Churn_Label   object   \n",
              "\n",
              "                                        unique_sample  n_uniques  \n",
              "0                                      [Male, Female]          2  \n",
              "1                                           [No, Yes]          2  \n",
              "2                                           [No, Yes]          2  \n",
              "3                                  [2, 8, 28, 49, 10]         72  \n",
              "4                                           [Yes, No]          2  \n",
              "5                         [No, Yes, No phone service]          3  \n",
              "6                              [DSL, Fiber optic, No]          3  \n",
              "7                      [Yes, No, No internet service]          3  \n",
              "8                      [Yes, No, No internet service]          3  \n",
              "9                      [No, Yes, No internet service]          3  \n",
              "10                     [No, Yes, No internet service]          3  \n",
              "11                     [No, Yes, No internet service]          3  \n",
              "12                     [No, Yes, No internet service]          3  \n",
              "13               [Month-to-month, Two year, One year]          3  \n",
              "14                                          [Yes, No]          2  \n",
              "15  [Mailed check, Electronic check, Bank transfer...          4  \n",
              "16                 [53.85, 70.7, 99.65, 104.8, 103.7]       1585  \n",
              "17           [108.15, 151.65, 820.5, 3046.05, 5036.3]       6530  \n",
              "18                                          [Yes, No]          2  "
            ]
          },
          "execution_count": 91,
          "metadata": {},
          "output_type": "execute_result"
        }
      ],
      "source": [
        "summary_df_telco"
      ]
    },
    {
      "cell_type": "markdown",
      "metadata": {
        "id": "OZIznDxsF6cp"
      },
      "source": [
        "No modification:\n",
        "\n",
        "The SeniorCitizen column is already a binary column and should not be modified."
      ]
    },
    {
      "cell_type": "markdown",
      "metadata": {
        "id": "UVFFs_H1F9bo"
      },
      "source": [
        "Label Encoding:\n",
        "\n",
        "Label encoding is used to replace categorical values with numerical values. This encoding replaces every category with a numerical label. In this project, we use label encoding with the following binary variables: (1) Gender, (2) Partner, (3) Dependents, (4)Paperless_Billing, (5)Phone_Service , and (6)Churn_Label ."
      ]
    },
    {
      "cell_type": "code",
      "execution_count": 92,
      "metadata": {
        "colab": {
          "base_uri": "https://localhost:8080/"
        },
        "id": "y3WZ8N-XZY7A",
        "outputId": "070f21da-0877-4c4e-e85c-515c3551ac33"
      },
      "outputs": [
        {
          "name": "stdout",
          "output_type": "stream",
          "text": [
            "<class 'pandas.core.frame.DataFrame'>\n",
            "RangeIndex: 14086 entries, 0 to 14085\n",
            "Data columns (total 19 columns):\n",
            " #   Column             Non-Null Count  Dtype  \n",
            "---  ------             --------------  -----  \n",
            " 0   Gender             14086 non-null  object \n",
            " 1   Partner            14086 non-null  object \n",
            " 2   Dependents         14086 non-null  object \n",
            " 3   Tenure_Months      14086 non-null  int64  \n",
            " 4   Phone_Service      14086 non-null  object \n",
            " 5   Multiple_Lines     14086 non-null  object \n",
            " 6   Internet_Service   14086 non-null  object \n",
            " 7   Online_Security    14086 non-null  object \n",
            " 8   Online_Backup      14086 non-null  object \n",
            " 9   Device_Protection  14086 non-null  object \n",
            " 10  Tech_Support       14086 non-null  object \n",
            " 11  Streaming_TV       14086 non-null  object \n",
            " 12  Streaming_Movies   14086 non-null  object \n",
            " 13  Contract           14086 non-null  object \n",
            " 14  Paperless_Billing  14086 non-null  object \n",
            " 15  Payment_Method     14086 non-null  object \n",
            " 16  Monthly_Charges    14086 non-null  float64\n",
            " 17  Total_Charges      14086 non-null  float64\n",
            " 18  Churn_Label        14086 non-null  object \n",
            "dtypes: float64(2), int64(1), object(16)\n",
            "memory usage: 2.0+ MB\n"
          ]
        }
      ],
      "source": [
        "df_telco.info()"
      ]
    },
    {
      "cell_type": "code",
      "execution_count": 93,
      "metadata": {
        "id": "S7BikBlOb17Q"
      },
      "outputs": [],
      "source": [
        "# encode the columns for model fitting\n",
        "\n",
        "df_telco_transformed = df_telco.copy()\n",
        "\n",
        "# label encoding (binary variables)\n",
        "\n",
        "label_encoding_columns = ['Gender', 'Partner', 'Dependents', 'Paperless_Billing', 'Phone_Service', 'Churn_Label']\n",
        "\n",
        "# encode categorical binary features using label encoding\n",
        "\n",
        "for column in label_encoding_columns:\n",
        "    if column == 'Gender':\n",
        "        df_telco_transformed[column] = df_telco_transformed[column].map({'Female': 1, 'Male': 0})\n",
        "    else: \n",
        "        df_telco_transformed[column] = df_telco_transformed[column].map({'Yes': 1, 'No': 0}) "
      ]
    },
    {
      "cell_type": "markdown",
      "metadata": {
        "id": "HgqFVmQxGSV_"
      },
      "source": [
        "One-Hot Encoding:\n",
        "\n",
        "One-hot encoding creates a new binary column for each level of the categorical variable. The new column contains zeros and ones indicating the absence or presence of the category in the data. In this project, we apply one-hot encoding to the following categorical variables: (1) Contract, (2) Payment_Method, (3) Multiple_Lines, (4) Internet_Services, (5) Online_Security, (6) Online_Backup, (7) Device_Protection, (8) Tech_Support, (9) Streaming_TV, and (10)Streaming_Movies."
      ]
    },
    {
      "cell_type": "code",
      "execution_count": 94,
      "metadata": {
        "id": "c4dZqZZ1GVb4"
      },
      "outputs": [],
      "source": [
        "# one-hot encoding (categorical variables with more than two levels)\n",
        "\n",
        "one_hot_encoding_columns = ['Multiple_Lines', 'Internet_Service', 'Online_Security', 'Online_Backup', 'Device_Protection', \n",
        "                            'Tech_Support', 'Streaming_TV',  'Streaming_Movies', 'Contract', 'Payment_Method']\n",
        "\n",
        "# encode categorical variables with more than two levels using one-hot encoding\n",
        "\n",
        "df_telco_transformed = pd.get_dummies(df_telco_transformed, columns = one_hot_encoding_columns)"
      ]
    },
    {
      "cell_type": "code",
      "execution_count": 95,
      "metadata": {
        "colab": {
          "base_uri": "https://localhost:8080/",
          "height": 1000
        },
        "id": "9aiCv_YAsKWq",
        "outputId": "abcb74c5-a6b3-49aa-d057-f7fc82123979"
      },
      "outputs": [
        {
          "data": {
            "text/html": [
              "<div>\n",
              "<style scoped>\n",
              "    .dataframe tbody tr th:only-of-type {\n",
              "        vertical-align: middle;\n",
              "    }\n",
              "\n",
              "    .dataframe tbody tr th {\n",
              "        vertical-align: top;\n",
              "    }\n",
              "\n",
              "    .dataframe thead th {\n",
              "        text-align: right;\n",
              "    }\n",
              "</style>\n",
              "<table border=\"1\" class=\"dataframe\">\n",
              "  <thead>\n",
              "    <tr style=\"text-align: right;\">\n",
              "      <th></th>\n",
              "      <th>Column</th>\n",
              "      <th>d_type</th>\n",
              "      <th>unique_sample</th>\n",
              "      <th>n_uniques</th>\n",
              "    </tr>\n",
              "  </thead>\n",
              "  <tbody>\n",
              "    <tr>\n",
              "      <th>0</th>\n",
              "      <td>Gender</td>\n",
              "      <td>int64</td>\n",
              "      <td>[0, 1]</td>\n",
              "      <td>2</td>\n",
              "    </tr>\n",
              "    <tr>\n",
              "      <th>1</th>\n",
              "      <td>Partner</td>\n",
              "      <td>int64</td>\n",
              "      <td>[0, 1]</td>\n",
              "      <td>2</td>\n",
              "    </tr>\n",
              "    <tr>\n",
              "      <th>2</th>\n",
              "      <td>Dependents</td>\n",
              "      <td>int64</td>\n",
              "      <td>[0, 1]</td>\n",
              "      <td>2</td>\n",
              "    </tr>\n",
              "    <tr>\n",
              "      <th>3</th>\n",
              "      <td>Tenure_Months</td>\n",
              "      <td>int64</td>\n",
              "      <td>[2, 8, 28, 49, 10]</td>\n",
              "      <td>72</td>\n",
              "    </tr>\n",
              "    <tr>\n",
              "      <th>4</th>\n",
              "      <td>Phone_Service</td>\n",
              "      <td>int64</td>\n",
              "      <td>[1, 0]</td>\n",
              "      <td>2</td>\n",
              "    </tr>\n",
              "    <tr>\n",
              "      <th>5</th>\n",
              "      <td>Paperless_Billing</td>\n",
              "      <td>int64</td>\n",
              "      <td>[1, 0]</td>\n",
              "      <td>2</td>\n",
              "    </tr>\n",
              "    <tr>\n",
              "      <th>6</th>\n",
              "      <td>Monthly_Charges</td>\n",
              "      <td>float64</td>\n",
              "      <td>[53.85, 70.7, 99.65, 104.8, 103.7]</td>\n",
              "      <td>1585</td>\n",
              "    </tr>\n",
              "    <tr>\n",
              "      <th>7</th>\n",
              "      <td>Total_Charges</td>\n",
              "      <td>float64</td>\n",
              "      <td>[108.15, 151.65, 820.5, 3046.05, 5036.3]</td>\n",
              "      <td>6530</td>\n",
              "    </tr>\n",
              "    <tr>\n",
              "      <th>8</th>\n",
              "      <td>Churn_Label</td>\n",
              "      <td>int64</td>\n",
              "      <td>[1, 0]</td>\n",
              "      <td>2</td>\n",
              "    </tr>\n",
              "    <tr>\n",
              "      <th>9</th>\n",
              "      <td>Multiple_Lines_No</td>\n",
              "      <td>uint8</td>\n",
              "      <td>[1, 0]</td>\n",
              "      <td>2</td>\n",
              "    </tr>\n",
              "    <tr>\n",
              "      <th>10</th>\n",
              "      <td>Multiple_Lines_No phone service</td>\n",
              "      <td>uint8</td>\n",
              "      <td>[0, 1]</td>\n",
              "      <td>2</td>\n",
              "    </tr>\n",
              "    <tr>\n",
              "      <th>11</th>\n",
              "      <td>Multiple_Lines_Yes</td>\n",
              "      <td>uint8</td>\n",
              "      <td>[0, 1]</td>\n",
              "      <td>2</td>\n",
              "    </tr>\n",
              "    <tr>\n",
              "      <th>12</th>\n",
              "      <td>Internet_Service_DSL</td>\n",
              "      <td>uint8</td>\n",
              "      <td>[1, 0]</td>\n",
              "      <td>2</td>\n",
              "    </tr>\n",
              "    <tr>\n",
              "      <th>13</th>\n",
              "      <td>Internet_Service_Fiber optic</td>\n",
              "      <td>uint8</td>\n",
              "      <td>[0, 1]</td>\n",
              "      <td>2</td>\n",
              "    </tr>\n",
              "    <tr>\n",
              "      <th>14</th>\n",
              "      <td>Internet_Service_No</td>\n",
              "      <td>uint8</td>\n",
              "      <td>[0, 1]</td>\n",
              "      <td>2</td>\n",
              "    </tr>\n",
              "    <tr>\n",
              "      <th>15</th>\n",
              "      <td>Online_Security_No</td>\n",
              "      <td>uint8</td>\n",
              "      <td>[0, 1]</td>\n",
              "      <td>2</td>\n",
              "    </tr>\n",
              "    <tr>\n",
              "      <th>16</th>\n",
              "      <td>Online_Security_No internet service</td>\n",
              "      <td>uint8</td>\n",
              "      <td>[0, 1]</td>\n",
              "      <td>2</td>\n",
              "    </tr>\n",
              "    <tr>\n",
              "      <th>17</th>\n",
              "      <td>Online_Security_Yes</td>\n",
              "      <td>uint8</td>\n",
              "      <td>[1, 0]</td>\n",
              "      <td>2</td>\n",
              "    </tr>\n",
              "    <tr>\n",
              "      <th>18</th>\n",
              "      <td>Online_Backup_No</td>\n",
              "      <td>uint8</td>\n",
              "      <td>[0, 1]</td>\n",
              "      <td>2</td>\n",
              "    </tr>\n",
              "    <tr>\n",
              "      <th>19</th>\n",
              "      <td>Online_Backup_No internet service</td>\n",
              "      <td>uint8</td>\n",
              "      <td>[0, 1]</td>\n",
              "      <td>2</td>\n",
              "    </tr>\n",
              "    <tr>\n",
              "      <th>20</th>\n",
              "      <td>Online_Backup_Yes</td>\n",
              "      <td>uint8</td>\n",
              "      <td>[1, 0]</td>\n",
              "      <td>2</td>\n",
              "    </tr>\n",
              "    <tr>\n",
              "      <th>21</th>\n",
              "      <td>Device_Protection_No</td>\n",
              "      <td>uint8</td>\n",
              "      <td>[1, 0]</td>\n",
              "      <td>2</td>\n",
              "    </tr>\n",
              "    <tr>\n",
              "      <th>22</th>\n",
              "      <td>Device_Protection_No internet service</td>\n",
              "      <td>uint8</td>\n",
              "      <td>[0, 1]</td>\n",
              "      <td>2</td>\n",
              "    </tr>\n",
              "    <tr>\n",
              "      <th>23</th>\n",
              "      <td>Device_Protection_Yes</td>\n",
              "      <td>uint8</td>\n",
              "      <td>[0, 1]</td>\n",
              "      <td>2</td>\n",
              "    </tr>\n",
              "    <tr>\n",
              "      <th>24</th>\n",
              "      <td>Tech_Support_No</td>\n",
              "      <td>uint8</td>\n",
              "      <td>[1, 0]</td>\n",
              "      <td>2</td>\n",
              "    </tr>\n",
              "    <tr>\n",
              "      <th>25</th>\n",
              "      <td>Tech_Support_No internet service</td>\n",
              "      <td>uint8</td>\n",
              "      <td>[0, 1]</td>\n",
              "      <td>2</td>\n",
              "    </tr>\n",
              "    <tr>\n",
              "      <th>26</th>\n",
              "      <td>Tech_Support_Yes</td>\n",
              "      <td>uint8</td>\n",
              "      <td>[0, 1]</td>\n",
              "      <td>2</td>\n",
              "    </tr>\n",
              "    <tr>\n",
              "      <th>27</th>\n",
              "      <td>Streaming_TV_No</td>\n",
              "      <td>uint8</td>\n",
              "      <td>[1, 0]</td>\n",
              "      <td>2</td>\n",
              "    </tr>\n",
              "    <tr>\n",
              "      <th>28</th>\n",
              "      <td>Streaming_TV_No internet service</td>\n",
              "      <td>uint8</td>\n",
              "      <td>[0, 1]</td>\n",
              "      <td>2</td>\n",
              "    </tr>\n",
              "    <tr>\n",
              "      <th>29</th>\n",
              "      <td>Streaming_TV_Yes</td>\n",
              "      <td>uint8</td>\n",
              "      <td>[0, 1]</td>\n",
              "      <td>2</td>\n",
              "    </tr>\n",
              "    <tr>\n",
              "      <th>30</th>\n",
              "      <td>Streaming_Movies_No</td>\n",
              "      <td>uint8</td>\n",
              "      <td>[1, 0]</td>\n",
              "      <td>2</td>\n",
              "    </tr>\n",
              "    <tr>\n",
              "      <th>31</th>\n",
              "      <td>Streaming_Movies_No internet service</td>\n",
              "      <td>uint8</td>\n",
              "      <td>[0, 1]</td>\n",
              "      <td>2</td>\n",
              "    </tr>\n",
              "    <tr>\n",
              "      <th>32</th>\n",
              "      <td>Streaming_Movies_Yes</td>\n",
              "      <td>uint8</td>\n",
              "      <td>[0, 1]</td>\n",
              "      <td>2</td>\n",
              "    </tr>\n",
              "    <tr>\n",
              "      <th>33</th>\n",
              "      <td>Contract_Month-to-month</td>\n",
              "      <td>uint8</td>\n",
              "      <td>[1, 0]</td>\n",
              "      <td>2</td>\n",
              "    </tr>\n",
              "    <tr>\n",
              "      <th>34</th>\n",
              "      <td>Contract_One year</td>\n",
              "      <td>uint8</td>\n",
              "      <td>[0, 1]</td>\n",
              "      <td>2</td>\n",
              "    </tr>\n",
              "    <tr>\n",
              "      <th>35</th>\n",
              "      <td>Contract_Two year</td>\n",
              "      <td>uint8</td>\n",
              "      <td>[0, 1]</td>\n",
              "      <td>2</td>\n",
              "    </tr>\n",
              "    <tr>\n",
              "      <th>36</th>\n",
              "      <td>Payment_Method_Bank transfer</td>\n",
              "      <td>uint8</td>\n",
              "      <td>[0, 1]</td>\n",
              "      <td>2</td>\n",
              "    </tr>\n",
              "    <tr>\n",
              "      <th>37</th>\n",
              "      <td>Payment_Method_Credit card</td>\n",
              "      <td>uint8</td>\n",
              "      <td>[0, 1]</td>\n",
              "      <td>2</td>\n",
              "    </tr>\n",
              "    <tr>\n",
              "      <th>38</th>\n",
              "      <td>Payment_Method_Electronic check</td>\n",
              "      <td>uint8</td>\n",
              "      <td>[0, 1]</td>\n",
              "      <td>2</td>\n",
              "    </tr>\n",
              "    <tr>\n",
              "      <th>39</th>\n",
              "      <td>Payment_Method_Mailed check</td>\n",
              "      <td>uint8</td>\n",
              "      <td>[1, 0]</td>\n",
              "      <td>2</td>\n",
              "    </tr>\n",
              "  </tbody>\n",
              "</table>\n",
              "</div>"
            ],
            "text/plain": [
              "                                   Column   d_type  \\\n",
              "0                                  Gender    int64   \n",
              "1                                 Partner    int64   \n",
              "2                              Dependents    int64   \n",
              "3                           Tenure_Months    int64   \n",
              "4                           Phone_Service    int64   \n",
              "5                       Paperless_Billing    int64   \n",
              "6                         Monthly_Charges  float64   \n",
              "7                           Total_Charges  float64   \n",
              "8                             Churn_Label    int64   \n",
              "9                       Multiple_Lines_No    uint8   \n",
              "10        Multiple_Lines_No phone service    uint8   \n",
              "11                     Multiple_Lines_Yes    uint8   \n",
              "12                   Internet_Service_DSL    uint8   \n",
              "13           Internet_Service_Fiber optic    uint8   \n",
              "14                    Internet_Service_No    uint8   \n",
              "15                     Online_Security_No    uint8   \n",
              "16    Online_Security_No internet service    uint8   \n",
              "17                    Online_Security_Yes    uint8   \n",
              "18                       Online_Backup_No    uint8   \n",
              "19      Online_Backup_No internet service    uint8   \n",
              "20                      Online_Backup_Yes    uint8   \n",
              "21                   Device_Protection_No    uint8   \n",
              "22  Device_Protection_No internet service    uint8   \n",
              "23                  Device_Protection_Yes    uint8   \n",
              "24                        Tech_Support_No    uint8   \n",
              "25       Tech_Support_No internet service    uint8   \n",
              "26                       Tech_Support_Yes    uint8   \n",
              "27                        Streaming_TV_No    uint8   \n",
              "28       Streaming_TV_No internet service    uint8   \n",
              "29                       Streaming_TV_Yes    uint8   \n",
              "30                    Streaming_Movies_No    uint8   \n",
              "31   Streaming_Movies_No internet service    uint8   \n",
              "32                   Streaming_Movies_Yes    uint8   \n",
              "33                Contract_Month-to-month    uint8   \n",
              "34                      Contract_One year    uint8   \n",
              "35                      Contract_Two year    uint8   \n",
              "36           Payment_Method_Bank transfer    uint8   \n",
              "37             Payment_Method_Credit card    uint8   \n",
              "38        Payment_Method_Electronic check    uint8   \n",
              "39            Payment_Method_Mailed check    uint8   \n",
              "\n",
              "                               unique_sample  n_uniques  \n",
              "0                                     [0, 1]          2  \n",
              "1                                     [0, 1]          2  \n",
              "2                                     [0, 1]          2  \n",
              "3                         [2, 8, 28, 49, 10]         72  \n",
              "4                                     [1, 0]          2  \n",
              "5                                     [1, 0]          2  \n",
              "6         [53.85, 70.7, 99.65, 104.8, 103.7]       1585  \n",
              "7   [108.15, 151.65, 820.5, 3046.05, 5036.3]       6530  \n",
              "8                                     [1, 0]          2  \n",
              "9                                     [1, 0]          2  \n",
              "10                                    [0, 1]          2  \n",
              "11                                    [0, 1]          2  \n",
              "12                                    [1, 0]          2  \n",
              "13                                    [0, 1]          2  \n",
              "14                                    [0, 1]          2  \n",
              "15                                    [0, 1]          2  \n",
              "16                                    [0, 1]          2  \n",
              "17                                    [1, 0]          2  \n",
              "18                                    [0, 1]          2  \n",
              "19                                    [0, 1]          2  \n",
              "20                                    [1, 0]          2  \n",
              "21                                    [1, 0]          2  \n",
              "22                                    [0, 1]          2  \n",
              "23                                    [0, 1]          2  \n",
              "24                                    [1, 0]          2  \n",
              "25                                    [0, 1]          2  \n",
              "26                                    [0, 1]          2  \n",
              "27                                    [1, 0]          2  \n",
              "28                                    [0, 1]          2  \n",
              "29                                    [0, 1]          2  \n",
              "30                                    [1, 0]          2  \n",
              "31                                    [0, 1]          2  \n",
              "32                                    [0, 1]          2  \n",
              "33                                    [1, 0]          2  \n",
              "34                                    [0, 1]          2  \n",
              "35                                    [0, 1]          2  \n",
              "36                                    [0, 1]          2  \n",
              "37                                    [0, 1]          2  \n",
              "38                                    [0, 1]          2  \n",
              "39                                    [1, 0]          2  "
            ]
          },
          "execution_count": 95,
          "metadata": {},
          "output_type": "execute_result"
        }
      ],
      "source": [
        "# report of the data after label encoding of columns\n",
        "\n",
        "report(df_telco_transformed)"
      ]
    },
    {
      "cell_type": "markdown",
      "metadata": {
        "id": "QnqhfMo6Gj4W"
      },
      "source": [
        "The main drawback of this encoding is the significant increase in the dimensionality of the dataset (curse of dimensionality); therefore, this method should be avoided when the categorical column has a large number of unique values."
      ]
    },
    {
      "cell_type": "markdown",
      "metadata": {
        "id": "hfCxb4_PGkrS"
      },
      "source": [
        "Normalization:\n",
        "\n",
        "Data Normalization is a common practice in machine learning which consists of transforming numeric columns to a common scale. In machine learning, some feature values differ from others multiple times. The features with higher values will dominate the learning process; however, it does not mean those variables are more important to predict the target. Data normalization transforms multiscaled data to the same scale. After normalization, all variables have a similar influence on the model, improving the stability and performance of the learning algorithm.\n",
        "\n",
        "\n",
        "There are multiple normalization techniques in statistics. In this project, we will use the min-max method to rescale the numeric columns (tenure, MontlyCharges, and TotalCharges) to a common scale. The min-max approach (often called normalization) rescales the feature to a fixed range of [0,1] by subtracting the minimum value of the feature and then dividing by the range."
      ]
    },
    {
      "cell_type": "code",
      "execution_count": 96,
      "metadata": {
        "id": "cAiY2Bf6NtUH"
      },
      "outputs": [],
      "source": [
        "# feature scaling\n",
        "\n",
        "from sklearn.preprocessing import MinMaxScaler\n",
        "sc = MinMaxScaler()\n",
        "df_telco_transformed['Tenure_Months'] = sc.fit_transform(df_telco_transformed[['Tenure_Months']])\n",
        "df_telco_transformed['Monthly_Charges'] = sc.fit_transform(df_telco_transformed[['Monthly_Charges']])\n",
        "df_telco_transformed['Total_Charges'] = sc.fit_transform(df_telco_transformed[['Total_Charges']])"
      ]
    },
    {
      "cell_type": "markdown",
      "metadata": {
        "id": "j7C1ez_6hcy8"
      },
      "source": [
        "### Modeling:"
      ]
    },
    {
      "cell_type": "markdown",
      "metadata": {
        "id": "6RVleYBWhade"
      },
      "source": [
        "For the modeling stage, this churn prediction will focus on as much as possible in predicting which customers will churn. As we know, if this model predicts 'retain' for a customer that will actually 'churn', then we will lose the customer. And according to some opinions, the cost of customer acquisition is 5 times greater than the cost of retaining the customer.\n",
        "\n",
        "So that in modeling this time we will focus on recall. And we will try to use PR (Precision Recall) Curve to find the optimal threshold."
      ]
    },
    {
      "cell_type": "markdown",
      "metadata": {
        "id": "8vaFkv6LMRqw"
      },
      "source": [
        "Setting a baseline:\n",
        "\n",
        "In machine learning, we often use a simple classifier called baseline to evaluate the performance of a model. In this classification problem, the rate of customers that did not churn (most frequent class) can be used as a baseline to evaluate the quality of the models generated. These models should outperform the baseline capabilities to be considered for future predictions."
      ]
    },
    {
      "cell_type": "markdown",
      "metadata": {
        "id": "C8YGomBJMVZv"
      },
      "source": [
        "Splitting the data in training and testing sets:\n",
        "\n",
        "The first step when building a model is to split the data into two groups, which are typically referred to as training and testing sets. The training set is used by the machine learning algorithm to build the model. The test set contains samples that are not part of the learning process and is used to evaluate the model’s performance. It is important to assess the quality of the model using unseen data to guarantee an objective evaluation."
      ]
    },
    {
      "cell_type": "markdown",
      "metadata": {
        "id": "nsNC3U_YMa0o"
      },
      "source": [
        "First, we create a variable X to store the independent attributes of the dataset. Additionally, we create a variable y to store only the target variable (Churn_Label)."
      ]
    },
    {
      "cell_type": "markdown",
      "metadata": {
        "id": "uEsnicnoM95E"
      },
      "source": [
        "Then, we can use the train_test_split function from the sklearn.model_selection package to create both the training and testing sets."
      ]
    },
    {
      "cell_type": "code",
      "execution_count": 97,
      "metadata": {
        "id": "v7EERKpIN9Dk"
      },
      "outputs": [],
      "source": [
        "# Import Machine learning algorithms\n",
        "\n",
        "from sklearn.linear_model import LogisticRegression\n",
        "from sklearn.svm import SVC\n",
        "from sklearn.ensemble import RandomForestClassifier\n",
        "from sklearn.tree import DecisionTreeClassifier\n",
        "from sklearn.naive_bayes import GaussianNB\n",
        "from sklearn.dummy import DummyClassifier\n",
        "from sklearn.neighbors import KNeighborsClassifier\n",
        "from sklearn.ensemble import GradientBoostingClassifier\n",
        "from sklearn.ensemble import AdaBoostClassifier\n",
        "from xgboost import XGBClassifier\n",
        "\n",
        "#Import metric for performance evaluation\n",
        "\n",
        "from sklearn.metrics import accuracy_score, precision_score, recall_score, f1_score\n",
        "\n",
        "#Split data into train and test sets\n",
        "\n",
        "from sklearn.model_selection import train_test_split\n",
        "X = df_telco_transformed.drop('Churn_Label', axis = 1)\n",
        "y = df_telco_transformed['Churn_Label']\n",
        "\n",
        "X_train, X_test, y_train, y_test = train_test_split(X, y, test_size = 0.25, random_state = 50)"
      ]
    },
    {
      "cell_type": "code",
      "execution_count": 99,
      "metadata": {
        "id": "5-if3GX8OJVF"
      },
      "outputs": [],
      "source": [
        "def modeling(alg, alg_name, params={}):\n",
        "    model = alg(**params) #Instantiating the algorithm class and unpacking parameters if any\n",
        "    model.fit(X_train, y_train)\n",
        "    y_pred = model.predict(X_test)\n",
        "    \n",
        "    #Performance evaluation\n",
        "    \n",
        "    def print_scores(alg, y_true, y_pred):\n",
        "        print(alg_name)\n",
        "        acc_score = accuracy_score(y_true, y_pred)\n",
        "        print(\"accuracy: \",acc_score)\n",
        "        pre_score = precision_score(y_true, y_pred)\n",
        "        print(\"precision: \",pre_score)\n",
        "        rec_score = recall_score(y_true, y_pred)                            \n",
        "        print(\"recall: \",rec_score)\n",
        "        f_score = f1_score(y_true, y_pred, average = 'weighted')\n",
        "        print(\"f1_score: \",f_score)\n",
        "\n",
        "    print_scores(alg, y_test, y_pred)\n",
        "    return model"
      ]
    },
    {
      "cell_type": "markdown",
      "metadata": {
        "id": "2nXkW_s4RYm0"
      },
      "source": [
        "Assessing multiple algorithms:\n",
        "\n",
        "Algorithm selection is a key challenge in any machine learning project since there is not an algorithm that is the best across all projects. Generally, we need to evaluate a set of potential candidates and select for further evaluation those that provide better performance.\n",
        "\n",
        "In this project, we compare 9 different algorithms -\n",
        "\n",
        "*   Dummy classifier (baseline) - Gives you a measure of \"baseline\" performance i.e. the success rate one should expect to achieve even if simply guessing.\n",
        "\n",
        "*   K Nearest Neighbours Classification\n",
        "*   Logistic Regression\n",
        "*   SVC Classifier\n",
        "*   Random Forest Classifier\n",
        "*   Decision Tree Classifier\n",
        "*   Naive Bayes Classifier\n",
        "*   Gradient Boosting Classifier\n",
        "*   AdaBoost Classifier\n",
        "*   XGBoost Classifier\n"
      ]
    },
    {
      "cell_type": "markdown",
      "metadata": {
        "id": "6apYoF6wRtMI"
      },
      "source": [
        "As shown below, all models outperform the dummy classifier model in terms of prediction accuracy. Therefore, we can affirm that machine learning is applicable to our problem because we observe an improvement over the baseline."
      ]
    },
    {
      "cell_type": "code",
      "execution_count": 100,
      "metadata": {
        "colab": {
          "base_uri": "https://localhost:8080/"
        },
        "id": "18SbcsfIPU4E",
        "outputId": "e1ef8ee5-2597-4bfe-c6d8-137d1ad0426b"
      },
      "outputs": [
        {
          "name": "stdout",
          "output_type": "stream",
          "text": [
            "Dummy Classifier\n",
            "accuracy:  0.7453151618398637\n",
            "precision:  0.0\n",
            "recall:  0.0\n",
            "f1_score:  0.6365551650657694\n"
          ]
        }
      ],
      "source": [
        "# Running Dummy Classifier\n",
        "\n",
        "dummy_model = modeling(DummyClassifier, 'Dummy Classifier')"
      ]
    },
    {
      "cell_type": "code",
      "execution_count": 101,
      "metadata": {
        "colab": {
          "base_uri": "https://localhost:8080/"
        },
        "id": "OaS3QMjRQr9a",
        "outputId": "da0acfbe-8a5c-4dad-9439-2661edb24b1a"
      },
      "outputs": [
        {
          "name": "stdout",
          "output_type": "stream",
          "text": [
            "KNeighbors Classifier\n",
            "accuracy:  0.8100511073253833\n",
            "precision:  0.6304347826086957\n",
            "recall:  0.6142697881828316\n",
            "f1_score:  0.8092319366148208\n"
          ]
        }
      ],
      "source": [
        "# Running K-Neighbors Classifier\n",
        "\n",
        "kn_model = modeling(KNeighborsClassifier, 'KNeighbors Classifier')"
      ]
    },
    {
      "cell_type": "code",
      "execution_count": 102,
      "metadata": {
        "colab": {
          "base_uri": "https://localhost:8080/"
        },
        "id": "VcLUJBPwOQc8",
        "outputId": "0d14c9ef-4e01-4046-c97d-54c1e67c49ab"
      },
      "outputs": [
        {
          "name": "stdout",
          "output_type": "stream",
          "text": [
            "Logistic Regression\n",
            "accuracy:  0.8063600227143668\n",
            "precision:  0.634207240948814\n",
            "recall:  0.5663322185061316\n",
            "f1_score:  0.8026247316430042\n"
          ]
        }
      ],
      "source": [
        "# Running Logistic Regression\n",
        "\n",
        "log_model = modeling(LogisticRegression, 'Logistic Regression')"
      ]
    },
    {
      "cell_type": "code",
      "execution_count": 103,
      "metadata": {
        "colab": {
          "base_uri": "https://localhost:8080/"
        },
        "id": "2VQyVOzVO2I6",
        "outputId": "5a7ee298-59f2-4a3d-9bfa-346c1f5a4350"
      },
      "outputs": [
        {
          "name": "stdout",
          "output_type": "stream",
          "text": [
            "SVC Classification\n",
            "accuracy:  0.8089153889835321\n",
            "precision:  0.6513513513513514\n",
            "recall:  0.5373467112597548\n",
            "f1_score:  0.8025264068955299\n"
          ]
        }
      ],
      "source": [
        "# Running Support Vector Classifier\n",
        "\n",
        "svc_model = modeling(SVC, 'SVC Classification')"
      ]
    },
    {
      "cell_type": "code",
      "execution_count": 104,
      "metadata": {
        "colab": {
          "base_uri": "https://localhost:8080/"
        },
        "id": "75z3uYwJO5IQ",
        "outputId": "f657fad0-9034-4570-97e2-ebb53d8633d1"
      },
      "outputs": [
        {
          "name": "stdout",
          "output_type": "stream",
          "text": [
            "Random Forest Classification\n",
            "accuracy:  0.9335604770017035\n",
            "precision:  0.8970059880239521\n",
            "recall:  0.835005574136009\n",
            "f1_score:  0.9327590475980666\n"
          ]
        }
      ],
      "source": [
        "# Running Random Forest Classifier\n",
        "\n",
        "rf_model = modeling(RandomForestClassifier, \"Random Forest Classification\")"
      ]
    },
    {
      "cell_type": "code",
      "execution_count": 105,
      "metadata": {
        "colab": {
          "base_uri": "https://localhost:8080/"
        },
        "id": "qOM4WF1uO8m7",
        "outputId": "48149851-8a1b-4b15-d973-b1e5697e0bd6"
      },
      "outputs": [
        {
          "name": "stdout",
          "output_type": "stream",
          "text": [
            "Decision Tree Classification\n",
            "accuracy:  0.9275979557069847\n",
            "precision:  0.8590604026845637\n",
            "recall:  0.8561872909698997\n",
            "f1_score:  0.9275579919633119\n"
          ]
        }
      ],
      "source": [
        "# Running Decision Tree Classifier\n",
        "\n",
        "dt_model = modeling(DecisionTreeClassifier, \"Decision Tree Classification\")"
      ]
    },
    {
      "cell_type": "code",
      "execution_count": 106,
      "metadata": {
        "colab": {
          "base_uri": "https://localhost:8080/"
        },
        "id": "qvwtr4dlO-wM",
        "outputId": "815b434a-0084-4f63-ea0e-282f9e604e13"
      },
      "outputs": [
        {
          "name": "stdout",
          "output_type": "stream",
          "text": [
            "Naive Bayes Classification\n",
            "accuracy:  0.69534355479841\n",
            "precision:  0.44823529411764707\n",
            "recall:  0.8494983277591973\n",
            "f1_score:  0.7149378013888835\n"
          ]
        }
      ],
      "source": [
        "# Running Naive Bayes Classifier\n",
        "\n",
        "nb_model = modeling(GaussianNB, \"Naive Bayes Classification\")"
      ]
    },
    {
      "cell_type": "code",
      "execution_count": 107,
      "metadata": {
        "colab": {
          "base_uri": "https://localhost:8080/"
        },
        "id": "eZYadsENPJ63",
        "outputId": "158b103a-a9b2-446d-9a69-5763846174f2"
      },
      "outputs": [
        {
          "name": "stdout",
          "output_type": "stream",
          "text": [
            "Gradient Boosting Classifier\n",
            "accuracy:  0.814877910278251\n",
            "precision:  0.6618229854689565\n",
            "recall:  0.5585284280936454\n",
            "f1_score:  0.8094474219916852\n"
          ]
        }
      ],
      "source": [
        "# Running Gradient Boosting Classifier \n",
        "\n",
        "gb_model = modeling(GradientBoostingClassifier, \"Gradient Boosting Classifier\")  "
      ]
    },
    {
      "cell_type": "code",
      "execution_count": 108,
      "metadata": {
        "colab": {
          "base_uri": "https://localhost:8080/"
        },
        "id": "yodxJShRRhse",
        "outputId": "2f13b405-0f33-400b-f455-7ed5dc9c991e"
      },
      "outputs": [
        {
          "name": "stdout",
          "output_type": "stream",
          "text": [
            "Ada Boost Classifier\n",
            "accuracy:  0.8091993185689949\n",
            "precision:  0.6429479034307497\n",
            "recall:  0.5641025641025641\n",
            "f1_score:  0.8049255476774919\n"
          ]
        }
      ],
      "source": [
        "# Running Ada Boost Classifier\n",
        "\n",
        "ada_model = modeling(AdaBoostClassifier, \"Ada Boost Classifier\")  "
      ]
    },
    {
      "cell_type": "code",
      "execution_count": 109,
      "metadata": {
        "colab": {
          "base_uri": "https://localhost:8080/"
        },
        "id": "dI7IvluLRmYv",
        "outputId": "aac5b803-d38e-4798-b92b-c316a7c7353c"
      },
      "outputs": [
        {
          "name": "stdout",
          "output_type": "stream",
          "text": [
            "XGB Classifier\n",
            "accuracy:  0.8659852356615559\n",
            "precision:  0.766624843161857\n",
            "recall:  0.6811594202898551\n",
            "f1_score:  0.8632821385380007\n"
          ]
        }
      ],
      "source": [
        "# Running XGBoost Classifier\n",
        "\n",
        "xgb_model = modeling(XGBClassifier, \"XGB Classifier\")  "
      ]
    },
    {
      "cell_type": "code",
      "execution_count": 110,
      "metadata": {
        "colab": {
          "base_uri": "https://localhost:8080/"
        },
        "id": "AvsKJlRYR5gI",
        "outputId": "cfb4a7c8-9175-4f06-d564-895d52e9d130"
      },
      "outputs": [
        {
          "data": {
            "text/plain": [
              "['model.sav']"
            ]
          },
          "execution_count": 110,
          "metadata": {},
          "output_type": "execute_result"
        }
      ],
      "source": [
        "# Saving best model: method 1\n",
        "\n",
        "import joblib\n",
        "\n",
        "# Sava the model to disk\n",
        "\n",
        "filename = 'model.sav'\n",
        "joblib.dump(rf_model, filename)"
      ]
    },
    {
      "cell_type": "code",
      "execution_count": 111,
      "metadata": {
        "id": "WAhARSyY4aUk"
      },
      "outputs": [],
      "source": [
        "# Saving best model: method 2\n",
        "\n",
        "import pickle\n",
        "\n",
        "pickle.dump(rf_model, open('model.pkl','wb'))"
      ]
    },
    {
      "cell_type": "code",
      "execution_count": 112,
      "metadata": {
        "colab": {
          "base_uri": "https://localhost:8080/"
        },
        "id": "cUt8p-Mo4c4J",
        "outputId": "2492c5c8-295b-4482-b44a-4d04d888bcf1"
      },
      "outputs": [
        {
          "data": {
            "text/plain": [
              "array([0], dtype=int64)"
            ]
          },
          "execution_count": 112,
          "metadata": {},
          "output_type": "execute_result"
        }
      ],
      "source": [
        "# Loading model to compare the results\n",
        "\n",
        "model = pickle.load( open('model.pkl','rb'))\n",
        "\n",
        "model.predict([[1,0,0,0.154929577464788,0,0,0.421890547263681,0.0836025848142165,0,1,0,1,0,0,1,0,0,0,0,1,0,0,1,0,0,1,0,0,1,0,0,1,0,1,0,0,0,1,0]])"
      ]
    },
    {
      "cell_type": "code",
      "execution_count": 113,
      "metadata": {},
      "outputs": [
        {
          "data": {
            "text/plain": [
              "array([[0.89, 0.11]])"
            ]
          },
          "execution_count": 113,
          "metadata": {},
          "output_type": "execute_result"
        }
      ],
      "source": [
        "model.predict_proba([[1,0,0,0.154929577464788,0,0,0.421890547263681,0.0836025848142165,0,1,0,1,0,0,1,0,0,0,0,1,0,0,1,0,0,1,0,0,1,0,0,1,0,1,0,0,0,1,0]])"
      ]
    },
    {
      "cell_type": "code",
      "execution_count": 114,
      "metadata": {},
      "outputs": [
        {
          "data": {
            "text/plain": [
              "array([1], dtype=int64)"
            ]
          },
          "execution_count": 114,
          "metadata": {},
          "output_type": "execute_result"
        }
      ],
      "source": [
        "model.predict([[1,0,0,0.929577464788732,1,1,0.842786069651741,0.792459035310408,0,0,1,0,1,0,0,0,1,0,0,1,0,0,1,1,0,0,0,0,1,1,0,0,1,0,0,0,1,0,0]])"
      ]
    },
    {
      "cell_type": "code",
      "execution_count": 115,
      "metadata": {},
      "outputs": [
        {
          "data": {
            "text/plain": [
              "array([[0.1, 0.9]])"
            ]
          },
          "execution_count": 115,
          "metadata": {},
          "output_type": "execute_result"
        }
      ],
      "source": [
        "model.predict_proba([[1,0,0,0.929577464788732,1,1,0.842786069651741,0.792459035310408,0,0,1,0,1,0,0,0,1,0,0,1,0,0,1,1,0,0,0,0,1,1,0,0,1,0,0,0,1,0,0]])"
      ]
    }
  ],
  "metadata": {
    "colab": {
      "provenance": []
    },
    "interpreter": {
      "hash": "1c372663449dab65f774bf91f2083cae9c548765e966431acb792c261d8c081a"
    },
    "kernelspec": {
      "display_name": "Python 3.11.0 64-bit",
      "language": "python",
      "name": "python3"
    },
    "language_info": {
      "codemirror_mode": {
        "name": "ipython",
        "version": 3
      },
      "file_extension": ".py",
      "mimetype": "text/x-python",
      "name": "python",
      "nbconvert_exporter": "python",
      "pygments_lexer": "ipython3",
      "version": "3.11.0"
    }
  },
  "nbformat": 4,
  "nbformat_minor": 0
}
